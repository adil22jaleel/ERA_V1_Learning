{
 "cells": [
  {
   "cell_type": "code",
   "execution_count": 1,
   "metadata": {
    "colab": {
     "base_uri": "https://localhost:8080/"
    },
    "id": "Mv5cT5brD775",
    "outputId": "60143ebe-d62c-437e-fca3-9f708ab0fd3c"
   },
   "outputs": [
    {
     "name": "stdout",
     "output_type": "stream",
     "text": [
      "Collecting tokenizers\n",
      "  Downloading tokenizers-0.14.0-cp310-cp310-manylinux_2_17_x86_64.manylinux2014_x86_64.whl (3.8 MB)\n",
      "\u001b[?25l     \u001b[90m━━━━━━━━━━━━━━━━━━━━━━━━━━━━━━━━━━━━━━━━\u001b[0m \u001b[32m0.0/3.8 MB\u001b[0m \u001b[31m?\u001b[0m eta \u001b[36m-:--:--\u001b[0m\r",
      "\u001b[2K     \u001b[91m╸\u001b[0m\u001b[90m━━━━━━━━━━━━━━━━━━━━━━━━━━━━━━━━━━━━━━━\u001b[0m \u001b[32m0.1/3.8 MB\u001b[0m \u001b[31m2.3 MB/s\u001b[0m eta \u001b[36m0:00:02\u001b[0m\r",
      "\u001b[2K     \u001b[91m━━━━━━━━━━━━━━━━━━━━━━━━━━━━━━━━━━━━━━━\u001b[0m\u001b[91m╸\u001b[0m \u001b[32m3.8/3.8 MB\u001b[0m \u001b[31m57.6 MB/s\u001b[0m eta \u001b[36m0:00:01\u001b[0m\r",
      "\u001b[2K     \u001b[90m━━━━━━━━━━━━━━━━━━━━━━━━━━━━━━━━━━━━━━━━\u001b[0m \u001b[32m3.8/3.8 MB\u001b[0m \u001b[31m44.7 MB/s\u001b[0m eta \u001b[36m0:00:00\u001b[0m\n",
      "\u001b[?25hCollecting huggingface_hub<0.17,>=0.16.4 (from tokenizers)\n",
      "  Downloading huggingface_hub-0.16.4-py3-none-any.whl (268 kB)\n",
      "\u001b[2K     \u001b[90m━━━━━━━━━━━━━━━━━━━━━━━━━━━━━━━━━━━━━━\u001b[0m \u001b[32m268.8/268.8 kB\u001b[0m \u001b[31m31.6 MB/s\u001b[0m eta \u001b[36m0:00:00\u001b[0m\n",
      "\u001b[?25hRequirement already satisfied: filelock in /usr/local/lib/python3.10/dist-packages (from huggingface_hub<0.17,>=0.16.4->tokenizers) (3.12.2)\n",
      "Requirement already satisfied: fsspec in /usr/local/lib/python3.10/dist-packages (from huggingface_hub<0.17,>=0.16.4->tokenizers) (2023.6.0)\n",
      "Requirement already satisfied: requests in /usr/local/lib/python3.10/dist-packages (from huggingface_hub<0.17,>=0.16.4->tokenizers) (2.31.0)\n",
      "Requirement already satisfied: tqdm>=4.42.1 in /usr/local/lib/python3.10/dist-packages (from huggingface_hub<0.17,>=0.16.4->tokenizers) (4.66.1)\n",
      "Requirement already satisfied: pyyaml>=5.1 in /usr/local/lib/python3.10/dist-packages (from huggingface_hub<0.17,>=0.16.4->tokenizers) (6.0.1)\n",
      "Requirement already satisfied: typing-extensions>=3.7.4.3 in /usr/local/lib/python3.10/dist-packages (from huggingface_hub<0.17,>=0.16.4->tokenizers) (4.5.0)\n",
      "Requirement already satisfied: packaging>=20.9 in /usr/local/lib/python3.10/dist-packages (from huggingface_hub<0.17,>=0.16.4->tokenizers) (23.1)\n",
      "Requirement already satisfied: charset-normalizer<4,>=2 in /usr/local/lib/python3.10/dist-packages (from requests->huggingface_hub<0.17,>=0.16.4->tokenizers) (3.2.0)\n",
      "Requirement already satisfied: idna<4,>=2.5 in /usr/local/lib/python3.10/dist-packages (from requests->huggingface_hub<0.17,>=0.16.4->tokenizers) (3.4)\n",
      "Requirement already satisfied: urllib3<3,>=1.21.1 in /usr/local/lib/python3.10/dist-packages (from requests->huggingface_hub<0.17,>=0.16.4->tokenizers) (2.0.4)\n",
      "Requirement already satisfied: certifi>=2017.4.17 in /usr/local/lib/python3.10/dist-packages (from requests->huggingface_hub<0.17,>=0.16.4->tokenizers) (2023.7.22)\n",
      "Installing collected packages: huggingface_hub, tokenizers\n",
      "Successfully installed huggingface_hub-0.16.4 tokenizers-0.14.0\n",
      "Collecting datasets\n",
      "  Downloading datasets-2.14.5-py3-none-any.whl (519 kB)\n",
      "\u001b[2K     \u001b[90m━━━━━━━━━━━━━━━━━━━━━━━━━━━━━━━━━━━━━━━\u001b[0m \u001b[32m519.6/519.6 kB\u001b[0m \u001b[31m7.5 MB/s\u001b[0m eta \u001b[36m0:00:00\u001b[0m\n",
      "\u001b[?25hRequirement already satisfied: numpy>=1.17 in /usr/local/lib/python3.10/dist-packages (from datasets) (1.23.5)\n",
      "Requirement already satisfied: pyarrow>=8.0.0 in /usr/local/lib/python3.10/dist-packages (from datasets) (9.0.0)\n",
      "Collecting dill<0.3.8,>=0.3.0 (from datasets)\n",
      "  Downloading dill-0.3.7-py3-none-any.whl (115 kB)\n",
      "\u001b[2K     \u001b[90m━━━━━━━━━━━━━━━━━━━━━━━━━━━━━━━━━━━━━━\u001b[0m \u001b[32m115.3/115.3 kB\u001b[0m \u001b[31m16.1 MB/s\u001b[0m eta \u001b[36m0:00:00\u001b[0m\n",
      "\u001b[?25hRequirement already satisfied: pandas in /usr/local/lib/python3.10/dist-packages (from datasets) (1.5.3)\n",
      "Requirement already satisfied: requests>=2.19.0 in /usr/local/lib/python3.10/dist-packages (from datasets) (2.31.0)\n",
      "Requirement already satisfied: tqdm>=4.62.1 in /usr/local/lib/python3.10/dist-packages (from datasets) (4.66.1)\n",
      "Collecting xxhash (from datasets)\n",
      "  Downloading xxhash-3.3.0-cp310-cp310-manylinux_2_17_x86_64.manylinux2014_x86_64.whl (194 kB)\n",
      "\u001b[2K     \u001b[90m━━━━━━━━━━━━━━━━━━━━━━━━━━━━━━━━━━━━━━\u001b[0m \u001b[32m194.1/194.1 kB\u001b[0m \u001b[31m24.6 MB/s\u001b[0m eta \u001b[36m0:00:00\u001b[0m\n",
      "\u001b[?25hCollecting multiprocess (from datasets)\n",
      "  Downloading multiprocess-0.70.15-py310-none-any.whl (134 kB)\n",
      "\u001b[2K     \u001b[90m━━━━━━━━━━━━━━━━━━━━━━━━━━━━━━━━━━━━━━\u001b[0m \u001b[32m134.8/134.8 kB\u001b[0m \u001b[31m18.8 MB/s\u001b[0m eta \u001b[36m0:00:00\u001b[0m\n",
      "\u001b[?25hRequirement already satisfied: fsspec[http]<2023.9.0,>=2023.1.0 in /usr/local/lib/python3.10/dist-packages (from datasets) (2023.6.0)\n",
      "Requirement already satisfied: aiohttp in /usr/local/lib/python3.10/dist-packages (from datasets) (3.8.5)\n",
      "Requirement already satisfied: huggingface-hub<1.0.0,>=0.14.0 in /usr/local/lib/python3.10/dist-packages (from datasets) (0.16.4)\n",
      "Requirement already satisfied: packaging in /usr/local/lib/python3.10/dist-packages (from datasets) (23.1)\n",
      "Requirement already satisfied: pyyaml>=5.1 in /usr/local/lib/python3.10/dist-packages (from datasets) (6.0.1)\n",
      "Requirement already satisfied: attrs>=17.3.0 in /usr/local/lib/python3.10/dist-packages (from aiohttp->datasets) (23.1.0)\n",
      "Requirement already satisfied: charset-normalizer<4.0,>=2.0 in /usr/local/lib/python3.10/dist-packages (from aiohttp->datasets) (3.2.0)\n",
      "Requirement already satisfied: multidict<7.0,>=4.5 in /usr/local/lib/python3.10/dist-packages (from aiohttp->datasets) (6.0.4)\n",
      "Requirement already satisfied: async-timeout<5.0,>=4.0.0a3 in /usr/local/lib/python3.10/dist-packages (from aiohttp->datasets) (4.0.3)\n",
      "Requirement already satisfied: yarl<2.0,>=1.0 in /usr/local/lib/python3.10/dist-packages (from aiohttp->datasets) (1.9.2)\n",
      "Requirement already satisfied: frozenlist>=1.1.1 in /usr/local/lib/python3.10/dist-packages (from aiohttp->datasets) (1.4.0)\n",
      "Requirement already satisfied: aiosignal>=1.1.2 in /usr/local/lib/python3.10/dist-packages (from aiohttp->datasets) (1.3.1)\n",
      "Requirement already satisfied: filelock in /usr/local/lib/python3.10/dist-packages (from huggingface-hub<1.0.0,>=0.14.0->datasets) (3.12.2)\n",
      "Requirement already satisfied: typing-extensions>=3.7.4.3 in /usr/local/lib/python3.10/dist-packages (from huggingface-hub<1.0.0,>=0.14.0->datasets) (4.5.0)\n",
      "Requirement already satisfied: idna<4,>=2.5 in /usr/local/lib/python3.10/dist-packages (from requests>=2.19.0->datasets) (3.4)\n",
      "Requirement already satisfied: urllib3<3,>=1.21.1 in /usr/local/lib/python3.10/dist-packages (from requests>=2.19.0->datasets) (2.0.4)\n",
      "Requirement already satisfied: certifi>=2017.4.17 in /usr/local/lib/python3.10/dist-packages (from requests>=2.19.0->datasets) (2023.7.22)\n",
      "Requirement already satisfied: python-dateutil>=2.8.1 in /usr/local/lib/python3.10/dist-packages (from pandas->datasets) (2.8.2)\n",
      "Requirement already satisfied: pytz>=2020.1 in /usr/local/lib/python3.10/dist-packages (from pandas->datasets) (2023.3.post1)\n",
      "Requirement already satisfied: six>=1.5 in /usr/local/lib/python3.10/dist-packages (from python-dateutil>=2.8.1->pandas->datasets) (1.16.0)\n",
      "Installing collected packages: xxhash, dill, multiprocess, datasets\n",
      "Successfully installed datasets-2.14.5 dill-0.3.7 multiprocess-0.70.15 xxhash-3.3.0\n",
      "Collecting torchmetrics\n",
      "  Downloading torchmetrics-1.1.1-py3-none-any.whl (763 kB)\n",
      "\u001b[2K     \u001b[90m━━━━━━━━━━━━━━━━━━━━━━━━━━━━━━━━━━━━━━\u001b[0m \u001b[32m763.4/763.4 kB\u001b[0m \u001b[31m10.7 MB/s\u001b[0m eta \u001b[36m0:00:00\u001b[0m\n",
      "\u001b[?25hRequirement already satisfied: numpy>1.20.0 in /usr/local/lib/python3.10/dist-packages (from torchmetrics) (1.23.5)\n",
      "Requirement already satisfied: torch>=1.8.1 in /usr/local/lib/python3.10/dist-packages (from torchmetrics) (2.0.1+cu118)\n",
      "Collecting lightning-utilities>=0.8.0 (from torchmetrics)\n",
      "  Downloading lightning_utilities-0.9.0-py3-none-any.whl (23 kB)\n",
      "Requirement already satisfied: packaging>=17.1 in /usr/local/lib/python3.10/dist-packages (from lightning-utilities>=0.8.0->torchmetrics) (23.1)\n",
      "Requirement already satisfied: typing-extensions in /usr/local/lib/python3.10/dist-packages (from lightning-utilities>=0.8.0->torchmetrics) (4.5.0)\n",
      "Requirement already satisfied: filelock in /usr/local/lib/python3.10/dist-packages (from torch>=1.8.1->torchmetrics) (3.12.2)\n",
      "Requirement already satisfied: sympy in /usr/local/lib/python3.10/dist-packages (from torch>=1.8.1->torchmetrics) (1.12)\n",
      "Requirement already satisfied: networkx in /usr/local/lib/python3.10/dist-packages (from torch>=1.8.1->torchmetrics) (3.1)\n",
      "Requirement already satisfied: jinja2 in /usr/local/lib/python3.10/dist-packages (from torch>=1.8.1->torchmetrics) (3.1.2)\n",
      "Requirement already satisfied: triton==2.0.0 in /usr/local/lib/python3.10/dist-packages (from torch>=1.8.1->torchmetrics) (2.0.0)\n",
      "Requirement already satisfied: cmake in /usr/local/lib/python3.10/dist-packages (from triton==2.0.0->torch>=1.8.1->torchmetrics) (3.27.4.1)\n",
      "Requirement already satisfied: lit in /usr/local/lib/python3.10/dist-packages (from triton==2.0.0->torch>=1.8.1->torchmetrics) (16.0.6)\n",
      "Requirement already satisfied: MarkupSafe>=2.0 in /usr/local/lib/python3.10/dist-packages (from jinja2->torch>=1.8.1->torchmetrics) (2.1.3)\n",
      "Requirement already satisfied: mpmath>=0.19 in /usr/local/lib/python3.10/dist-packages (from sympy->torch>=1.8.1->torchmetrics) (1.3.0)\n",
      "Installing collected packages: lightning-utilities, torchmetrics\n",
      "Successfully installed lightning-utilities-0.9.0 torchmetrics-1.1.1\n"
     ]
    }
   ],
   "source": [
    "!pip install tokenizers\n",
    "!pip install datasets\n",
    "!pip install torchmetrics"
   ]
  },
  {
   "cell_type": "code",
   "execution_count": 2,
   "metadata": {
    "id": "toj2BuZI8EUM"
   },
   "outputs": [],
   "source": [
    "from config import get_config, get_weights_file_path\n",
    "from dataset import BilingualDataset, casual_mask\n",
    "from train import *\n",
    "from model import *\n",
    "from tqdm import tqdm\n",
    "import os\n",
    "from datasets import load_dataset\n",
    "\n",
    "import warnings\n",
    "import torch.nn as nn\n",
    "from pathlib import Path\n",
    "import torchmetrics\n"
   ]
  },
  {
   "cell_type": "code",
   "execution_count": 3,
   "metadata": {
    "colab": {
     "base_uri": "https://localhost:8080/"
    },
    "id": "m8OmIK5klSpf",
    "outputId": "94e38ee5-2d97-4857-87b0-fe2d7b0cd157"
   },
   "outputs": [
    {
     "data": {
      "text/plain": [
       "{'batch_size': 128,\n",
       " 'num_epochs': 50,\n",
       " 'lr': 0.001,\n",
       " 'seq_len': 160,\n",
       " 'd_model': 512,\n",
       " 'd_ff': 128,\n",
       " 'lang_src': 'en',\n",
       " 'lang_tgt': 'fr',\n",
       " 'model_folder': 'weights',\n",
       " 'model_basename': 'tmodel_',\n",
       " 'preload': False,\n",
       " 'tokenizer_file': 'tokenizer_{0}.json',\n",
       " 'experiment_name': 'runs/tmodel',\n",
       " 'ds_mode': 'not_disk',\n",
       " 'ds_path': '/home/e183534/OpusBooks',\n",
       " 'save_ds_to_disk': False}"
      ]
     },
     "execution_count": 3,
     "metadata": {},
     "output_type": "execute_result"
    }
   ],
   "source": [
    "get_config()"
   ]
  },
  {
   "cell_type": "code",
   "execution_count": 4,
   "metadata": {
    "colab": {
     "base_uri": "https://localhost:8080/",
     "height": 1000,
     "referenced_widgets": [
      "a9317b6f027f4a30adace53aca69a529",
      "9cc8639a588d4ff9aede04401309ac3f",
      "a93fb1c6d61848d0af4254f4edebc5a9",
      "3d224f3cf239432db974303de5507a8c",
      "96f24145d47c4266b3fe49dc870a6706",
      "285d880450044c7e8e7019590b40c116",
      "0324cde96e964b57a517d5fd5c173082",
      "b549aa2913ef40ecb5190c4ac82f3e49",
      "cbb42892e9a34325aaaa11d3d8e14fd8",
      "cb3eaf7c42454472b82fb3c881a071ab",
      "c2db8ca2d4c04a9fb9c9edce24a1aa50",
      "7c458c876701406c950f1ccf5e7897e7",
      "130328d99d804941bf466413c6de8e55",
      "08c3fa0f5dee41bcbd983399cc2ed829",
      "74a0ed05516e4d1cabfbca80cc02135d",
      "f90fb33f463c4f25be3e30f78638c96c",
      "d8b0dc1bc1ed4d91a7d8ad409f639082",
      "b0ff43768ee84012b6f51cd0f9a66aa7",
      "20f848a1cda7432c99ae3916973fdbbd",
      "3b2cb2dc48424f1cb35fa162e118f49e",
      "b59488ee1b4e4bf29d02fb3c56acc4f2",
      "b98c5642ac6d4be29400ee8a0295ced2",
      "6efaca08a0664906b6d1997247bb0545",
      "4c83da28e54e4e84ae10dc915c864baf",
      "7dd799d9631841fdae8655ca852133b2",
      "bd92f69e5dcf4fbc82e624d3824d9160",
      "4621d90074e7419a8f032e2192fc2aa7",
      "f0dd5e2d358546b0bd5337a4b5e0e651",
      "9b56ae95768141bfa6860b55f05c2c21",
      "276a299aa5164cf494cc3644358cce92",
      "1eae8499274c413794544bd24054c54f",
      "6dc8fdb406154c919a08eaeb137aa2ea",
      "eedee6016ea34754a9e09579502a9e6a",
      "88adb201a5e44095b0003990325c36a6",
      "a2d6b1816d244610b9ffc58ad06b9765",
      "048182332d5b44998de19ef3c355c9e9",
      "1ff4a849ddbe4eb5a74ddd672ed7975d",
      "dea534679da54266ba6daa90c24e2f8b",
      "a3c78fbd73354c8ab9fabe16fc55e152",
      "bd83de774013415a8aef1ed1f295f68b",
      "b44d6c17e50c4b16905e5591cd8bf03b",
      "707259337981423c8eb2f33b37f2354e",
      "e930169a43c04578b217349ff0d622a4",
      "a055821d8a3f48189a72336d01e26e06",
      "4c50ad8ac1a94c95a90193e5165eb2dc",
      "3cbb0a7513454d828ee5d49199782555",
      "126e8938b6564ce99137971a0bbddb54",
      "b40cffd901fe48b28437283629f1621d",
      "7a90b88bba644aacabcdc5889792c7cb",
      "978050a172564e639a1d7de90291dd08",
      "ba856cdc670840cb82828db40b48161c",
      "3011682d63f84e2e83032c0dc9081553",
      "d03f1b06c6b141378b824bd4fa6aec42",
      "bc13f7b2f9b64fbb9094ddc0d6f802b7",
      "48cc35adc7c64dd8aed5079810ef8ae5"
     ]
    },
    "id": "Ty9ioVeg-2Qn",
    "outputId": "020dc6e0-1668-4162-9929-dab6f6616ad9"
   },
   "outputs": [
    {
     "name": "stdout",
     "output_type": "stream",
     "text": [
      "device : cuda\n"
     ]
    },
    {
     "data": {
      "application/vnd.jupyter.widget-view+json": {
       "model_id": "a9317b6f027f4a30adace53aca69a529",
       "version_major": 2,
       "version_minor": 0
      },
      "text/plain": [
       "Downloading builder script:   0%|          | 0.00/6.08k [00:00<?, ?B/s]"
      ]
     },
     "metadata": {},
     "output_type": "display_data"
    },
    {
     "data": {
      "application/vnd.jupyter.widget-view+json": {
       "model_id": "7c458c876701406c950f1ccf5e7897e7",
       "version_major": 2,
       "version_minor": 0
      },
      "text/plain": [
       "Downloading metadata:   0%|          | 0.00/161k [00:00<?, ?B/s]"
      ]
     },
     "metadata": {},
     "output_type": "display_data"
    },
    {
     "data": {
      "application/vnd.jupyter.widget-view+json": {
       "model_id": "6efaca08a0664906b6d1997247bb0545",
       "version_major": 2,
       "version_minor": 0
      },
      "text/plain": [
       "Downloading readme:   0%|          | 0.00/20.5k [00:00<?, ?B/s]"
      ]
     },
     "metadata": {},
     "output_type": "display_data"
    },
    {
     "data": {
      "application/vnd.jupyter.widget-view+json": {
       "model_id": "88adb201a5e44095b0003990325c36a6",
       "version_major": 2,
       "version_minor": 0
      },
      "text/plain": [
       "Downloading data:   0%|          | 0.00/12.0M [00:00<?, ?B/s]"
      ]
     },
     "metadata": {},
     "output_type": "display_data"
    },
    {
     "data": {
      "application/vnd.jupyter.widget-view+json": {
       "model_id": "4c50ad8ac1a94c95a90193e5165eb2dc",
       "version_major": 2,
       "version_minor": 0
      },
      "text/plain": [
       "Generating train split:   0%|          | 0/127085 [00:00<?, ? examples/s]"
      ]
     },
     "metadata": {},
     "output_type": "display_data"
    },
    {
     "name": "stdout",
     "output_type": "stream",
     "text": [
      "Max length of source sentence: 471\n",
      "Max length of target sentence: 482\n"
     ]
    },
    {
     "name": "stderr",
     "output_type": "stream",
     "text": [
      "Training on Epoch 00: 100%|██████████| 834/834 [03:27<00:00,  4.01it/s, Loss_Acc=6.133, Loss=5.214, Sqn_L=61]\n"
     ]
    },
    {
     "name": "stdout",
     "output_type": "stream",
     "text": [
      "--------------------------------------------------------------------------------\n",
      "    SOURCE: \"Well, do calculate, my boy.\"\n",
      "    TARGET: --Calcule, mon garçon.\n",
      " PREDICTED: -- Eh bien , mon cher , mon oncle .\n",
      "--------------------------------------------------------------------------------\n",
      "    SOURCE: \"True God!\" muttered Phoebus, \"targes, big−blanks, little blanks, mailles,* every two worth one of Tournay, farthings of Paris, real eagle liards!\n",
      "    TARGET: « Vrai Dieu ! grommela Phœbus, des targes, des grands-blancs, des petits-blancs, des mailles d’un tournois les deux, des deniers parisis, de vrais liards-à-l’aigle !\n",
      " PREDICTED: -- C ' est ce que M . de Rênal , , , , , , , , , , , !\n",
      "--------------------------------------------------------------------------------\n"
     ]
    },
    {
     "name": "stderr",
     "output_type": "stream",
     "text": [
      "/usr/local/lib/python3.10/dist-packages/torchmetrics/utilities/prints.py:62: FutureWarning: Importing `CharErrorRate` from `torchmetrics` was deprecated and will be removed in 2.0. Import `CharErrorRate` from `torchmetrics.text` instead.\n",
      "  _future_warning(\n",
      "/usr/local/lib/python3.10/dist-packages/torchmetrics/utilities/prints.py:62: FutureWarning: Importing `WordErrorRate` from `torchmetrics` was deprecated and will be removed in 2.0. Import `WordErrorRate` from `torchmetrics.text` instead.\n",
      "  _future_warning(\n",
      "/usr/local/lib/python3.10/dist-packages/torchmetrics/utilities/prints.py:62: FutureWarning: Importing `BLEUScore` from `torchmetrics` was deprecated and will be removed in 2.0. Import `BLEUScore` from `torchmetrics.text` instead.\n",
      "  _future_warning(\n",
      "Training on Epoch 01: 100%|██████████| 834/834 [03:25<00:00,  4.07it/s, Loss_Acc=4.593, Loss=4.544, Sqn_L=64]\n"
     ]
    },
    {
     "name": "stdout",
     "output_type": "stream",
     "text": [
      "--------------------------------------------------------------------------------\n",
      "    SOURCE: I had now brought my state of life to be much easier in itself than it was at first, and much easier to my mind, as well as to my body.\n",
      "    TARGET: J'avais alors amené mon état de vie à être en soi beaucoup plus heureux qu'il ne l'avait été premièrement, et beaucoup plus heureux pour mon esprit et pour mon corps.\n",
      " PREDICTED: J ' avais donc pris mon état de vie pour être plus qu ' il était à la première , et bien que mon esprit , comme mon corps , comme mon corps .\n",
      "--------------------------------------------------------------------------------\n",
      "    SOURCE: \"Yes, yes,\" said he; \"you disturb, you agitate the people who live in the castle.\"\n",
      "    TARGET: «Oui, oui, répondit-il, oui: vous troublez, vous agitez les gens qui habitent ce château.»\n",
      " PREDICTED: -- Oui , oui , dit - il , vous , vous les gens qui dans le château .\n",
      "--------------------------------------------------------------------------------\n"
     ]
    },
    {
     "name": "stderr",
     "output_type": "stream",
     "text": [
      "Training on Epoch 02: 100%|██████████| 834/834 [03:26<00:00,  4.04it/s, Loss_Acc=3.859, Loss=3.623, Sqn_L=136]\n"
     ]
    },
    {
     "name": "stdout",
     "output_type": "stream",
     "text": [
      "--------------------------------------------------------------------------------\n",
      "    SOURCE: \"There are many men in town, such as Lord St. Vincent, Lord Hood, and others, who move in the most respectable circles, although they have nothing but their services in the Navy to recommend them.\"\n",
      "    TARGET: Il y a à la ville des hommes, tels que Lord Saint-Vincent, Lord Hood, qui font figure dans les sociétés les plus respectables, bien qu'ils n'aient pour toute recommandation que leurs services dans la marine.\n",
      " PREDICTED: -- Il y a des hommes dans la ville , comme Lord Saint - , Lord , et autres , qui se dans les plus , bien qu ' ils n ' ont que leurs services à leur .\n",
      "--------------------------------------------------------------------------------\n",
      "    SOURCE: It was apparent that his strength was gradually diminishing.\n",
      "    TARGET: Il était visible que le capitaine s'éteignait peu à peu.\n",
      " PREDICTED: C ' était une violence que sa force était peu .\n",
      "--------------------------------------------------------------------------------\n"
     ]
    },
    {
     "name": "stderr",
     "output_type": "stream",
     "text": [
      "Training on Epoch 03: 100%|██████████| 834/834 [03:25<00:00,  4.05it/s, Loss_Acc=3.470, Loss=3.152, Sqn_L=48]\n"
     ]
    },
    {
     "name": "stdout",
     "output_type": "stream",
     "text": [
      "--------------------------------------------------------------------------------\n",
      "    SOURCE: Under these dark waters there stretched the bank of shellfish, an inexhaustible field of pearls more than twenty miles long.\n",
      "    TARGET: Là, sous les sombres eaux, s'étendait le banc de pintadines, inépuisable champ de perles dont la longueur dépasse vingt milles.\n",
      " PREDICTED: Sous ces eaux sombres , il y avait la rive de la , un champ de perles plus de vingt milles .\n",
      "--------------------------------------------------------------------------------\n",
      "    SOURCE: He took to his heels when he spotted me.\n",
      "    TARGET: Il a détalé en m’apercevant.\n",
      " PREDICTED: Il me prit à ses talons , lorsqu ’ il m ’ aperçut .\n",
      "--------------------------------------------------------------------------------\n"
     ]
    },
    {
     "name": "stderr",
     "output_type": "stream",
     "text": [
      "Training on Epoch 04: 100%|██████████| 834/834 [03:25<00:00,  4.06it/s, Loss_Acc=3.237, Loss=3.196, Sqn_L=68]\n"
     ]
    },
    {
     "name": "stdout",
     "output_type": "stream",
     "text": [
      "--------------------------------------------------------------------------------\n",
      "    SOURCE: In the next place, I told her that her being alive was the only support of the discovery, and that while she owned me for her child, and saw reason to be satisfied that I was so, nobody else would doubt it; but that if she should die before the discovery, I should be taken for an impudent creature that had forged such a thing to go away from my husband, or should be counted crazed and distracted.\n",
      "    TARGET: En second lieu je lui dis que ce n'était que parce qu'elle était en vie qu'il y avait quelque support à la découverte, et que tant qu'elle me reconnaîtrait pour sa fille, avec raison d'en être persuadée, personne d'autre n'en douterait; mais que si elle mourait avant la découverte, on me prendrait pour une créature imprudente qui avait forgé ce mensonge afin d'abandonner mon mari, ou on me considérerait comme folle et égarée.\n",
      " PREDICTED: Au lieu suivant , je lui dis que son être vivait était vivant , et que , pendant qu ' elle m ' avait pour son enfant , et qu ' elle me vit bien que j ' étais si bien sûr que je ne le , mais que si elle mourrait devant la découverte , je serais pris pour une créature pour aller sortir de mon mari , ou de s ' aventurer à mon mari , ou de folie .\n",
      "--------------------------------------------------------------------------------\n",
      "    SOURCE: Par Riscara, le prince reçut un avis anonyme qui l’avertissait qu’une expédition de la sentence de Fabrice avait été adressée officiellement au gouverneur de la citadelle.\n",
      "    TARGET: From Riscara the Prince received an anonymous message informing him that a copy of Fabrizio's sentence had been officially addressed to the governor of the citadel.\n",
      " PREDICTED: For Riscara , the Prince received a kind which a of Fabrizio had been addressed to the governor of the citadel .\n",
      "--------------------------------------------------------------------------------\n"
     ]
    },
    {
     "name": "stderr",
     "output_type": "stream",
     "text": [
      "Training on Epoch 05: 100%|██████████| 834/834 [03:23<00:00,  4.09it/s, Loss_Acc=3.022, Loss=2.940, Sqn_L=49]\n"
     ]
    },
    {
     "name": "stdout",
     "output_type": "stream",
     "text": [
      "--------------------------------------------------------------------------------\n",
      "    SOURCE: Elle ajouta en se levant :\n",
      "    TARGET: She added as she rose to her feet:\n",
      " PREDICTED: She added to herself :\n",
      "--------------------------------------------------------------------------------\n",
      "    SOURCE: With a little more heart, he might have been contented with this new conquest; but the principal features of his character were ambition and pride.\n",
      "    TARGET: Aussi, avec un peu de coeur, se serait-il contenté de cette nouvelle conquête; mais d'Artagnan n'avait que de l'ambition et de l'orgueil.\n",
      " PREDICTED: Avec un peu de cœur , il eût été satisfait de cette nouvelle conquête ; mais les traits principaux de son caractère étaient et de son orgueil .\n",
      "--------------------------------------------------------------------------------\n"
     ]
    },
    {
     "name": "stderr",
     "output_type": "stream",
     "text": [
      "Training on Epoch 06: 100%|██████████| 834/834 [03:23<00:00,  4.09it/s, Loss_Acc=2.776, Loss=2.785, Sqn_L=74]\n"
     ]
    },
    {
     "name": "stdout",
     "output_type": "stream",
     "text": [
      "--------------------------------------------------------------------------------\n",
      "    SOURCE: En face de la porte, sur le coin d’une cheminée prétentieuse en imitation de marbre blanc, on remarquait le reste d’une bougie de cire rouge a moitié consumée.\n",
      "    TARGET: Opposite the door was a showy fireplace, surmounted by a mantelpiece of imitation white marble. On one corner of this was stuck the stump of a red wax candle.\n",
      " PREDICTED: In the face of the door , on the platform of a in marble , was noticed the rest of a candle which hung a half of half .\n",
      "--------------------------------------------------------------------------------\n",
      "    SOURCE: – Ecoute, lui dit-elle, si tu peux donner une centaine de francs, je mettrai un double napoléon sur chacun des yeux du caporal qui va venir relever la garde pendant la nuit.\n",
      "    TARGET: \"Listen,\" she said to him, \"if you can put down a hundred francs, I will place a double napoleon on each eye of the corporal who comes to change the guard during the night.\n",
      " PREDICTED: \" ,\" she said to her , \" if you may give a hundred francs , I shall go a double napoleon on each other eyes of the corporal who will come to the night for the night .\"\n",
      "--------------------------------------------------------------------------------\n"
     ]
    },
    {
     "name": "stderr",
     "output_type": "stream",
     "text": [
      "Training on Epoch 07: 100%|██████████| 834/834 [03:24<00:00,  4.07it/s, Loss_Acc=2.561, Loss=2.672, Sqn_L=63]\n"
     ]
    },
    {
     "name": "stdout",
     "output_type": "stream",
     "text": [
      "--------------------------------------------------------------------------------\n",
      "    SOURCE: Is this the first time you have left your parents to come to school, my little girl?\"\n",
      "    TARGET: Est-ce la première fois que vous quittez vos parents pour venir en pension, mon enfant?»\n",
      " PREDICTED: Est - ce la première fois que vous avez laissé vos parents pour venir en pension , ma petite fille ?\n",
      "--------------------------------------------------------------------------------\n",
      "    SOURCE: About eleven I came unawares upon Booby keeping a lookout in a field close to the chapel.\n",
      "    TARGET: J’ai surpris Ganache à onze heures en train de guetter dans un champ auprès de la chapelle.\n",
      " PREDICTED: À onze heures je m ’ approchai avec Ganache , en un champ à la chapelle .\n",
      "--------------------------------------------------------------------------------\n"
     ]
    },
    {
     "name": "stderr",
     "output_type": "stream",
     "text": [
      "Training on Epoch 08: 100%|██████████| 834/834 [03:24<00:00,  4.08it/s, Loss_Acc=2.370, Loss=2.429, Sqn_L=93]\n"
     ]
    },
    {
     "name": "stdout",
     "output_type": "stream",
     "text": [
      "--------------------------------------------------------------------------------\n",
      "    SOURCE: 'If the arrogance of the Marquise, or the mischievous pranks of her son, make the house definitely insupportable to you, I advise you to finish your studies in some Seminary thirty leagues from Paris, and in the North, rather than in the South.\n",
      "    TARGET: Si les hauteurs de la marquise, ou les mauvaises plaisanteries de son fils, vous rendent cette maison décidément insupportable, je vous conseille de finir vos études dans quelque séminaire à trente lieues de Paris, et plutôt au nord qu’au midi.\n",
      " PREDICTED: Si l ’ arrogance de la marquise , ou les de son fils , vous faites une maison bien insupportable à vous , je vous conseille d ’ achever vos études de trente lieues de Paris , et au nord plutôt que au Sud .\n",
      "--------------------------------------------------------------------------------\n",
      "    SOURCE: \"Did Rivers spend much time with the ladies of his family?\"\n",
      "    TARGET: -- Rivers passait-il beaucoup de temps auprès de vous et de ses soeurs?\n",
      " PREDICTED: -- Est - ce que M . Rivers passait beaucoup de temps avec les dames de sa famille ?\n",
      "--------------------------------------------------------------------------------\n"
     ]
    },
    {
     "name": "stderr",
     "output_type": "stream",
     "text": [
      "Training on Epoch 09: 100%|██████████| 834/834 [03:24<00:00,  4.08it/s, Loss_Acc=2.206, Loss=2.300, Sqn_L=78]\n"
     ]
    },
    {
     "name": "stdout",
     "output_type": "stream",
     "text": [
      "--------------------------------------------------------------------------------\n",
      "    SOURCE: \"By Jove,\" said Spilett, \"our friend Pencroft has become very particular about the proprieties all at once!\"\n",
      "    TARGET: -- Diable! fit Gédéon Spilett, notre ami Pencroff est à cheval sur les convenances!\n",
      " PREDICTED: -- Bon , dit Gédéon Spilett , notre ami Pencroff est devenu très particulièrement à tous les !\n",
      "--------------------------------------------------------------------------------\n",
      "    SOURCE: Why should it not, at a certain depth, attain an impassable limit, instead of rising to such a point as to fuse the most infusible metals?\"\n",
      "    TARGET: Pourquoi, à une certaine profondeur, n'atteindrait-elle pas une limite infranchissable, au lieu de s'élever jusqu'au degré de fusion des minéraux les plus réfractaires?»\n",
      " PREDICTED: Pourquoi n ' y serait - il pas , à une certaine profondeur , atteindre une limite infranchissable , jusqu ' à se lever pour amener à la mèche la plus de métaux ?\n",
      "--------------------------------------------------------------------------------\n"
     ]
    },
    {
     "name": "stderr",
     "output_type": "stream",
     "text": [
      "Training on Epoch 10: 100%|██████████| 834/834 [03:23<00:00,  4.10it/s, Loss_Acc=2.106, Loss=2.146, Sqn_L=90]\n"
     ]
    },
    {
     "name": "stdout",
     "output_type": "stream",
     "text": [
      "--------------------------------------------------------------------------------\n",
      "    SOURCE: She ventured to question him as to the portrait in which he took such an interest; Julien swore to her that it was that of a man.\n",
      "    TARGET: Elle osa l’interroger sur le portrait auquel il mettait tant d’intérêt ; Julien lui jura que c’était celui d’un homme.\n",
      " PREDICTED: Elle osa le questionner avec ce portrait dans lequel il prenait tant d ’ intérêt ; Julien lui jura que c ’ était celui d ’ un homme .\n",
      "--------------------------------------------------------------------------------\n",
      "    SOURCE: \"My dear Miss Elizabeth, I have the highest opinion in the world in your excellent judgement in all matters within the scope of your understanding; but permit me to say, that there must be a wide difference between the established forms of ceremony amongst the laity, and those which regulate the clergy; for, give me leave to observe that I consider the clerical office as equal in point of dignity with the highest rank in the kingdom--provided that a proper humility of behaviour is at the same time maintained.\n",
      "    TARGET: – Ma chere miss Elizabeth, dit-il, j’ai la plus haute opinion de votre excellent jugement pour toutes les matieres qui sont de votre compétence. Mais permettez-moi de vous faire observer qu’a l’égard de l’étiquette les gens du monde et le clergé ne sont pas astreints aux memes regles.\n",
      " PREDICTED: – Mon cher miss Elizabeth , j ’ ai la plus grande opinion du monde dans votre esprit de contradiction avec votre intelligence et la diligence qui est la plus grande que vous ne pensez pas , mais permettez - moi de vous dire qu ’ il y a une grande différence entre les formes de la cérémonie du et ceux qui le clergé ; car , me présentant à l ’ honneur que je considere comme une dignité de dignité dans le royaume , pourvu qu ’ une conduite est de temps en même temps .\n",
      "--------------------------------------------------------------------------------\n"
     ]
    },
    {
     "name": "stderr",
     "output_type": "stream",
     "text": [
      "Training on Epoch 11: 100%|██████████| 834/834 [03:24<00:00,  4.07it/s, Loss_Acc=2.071, Loss=2.100, Sqn_L=108]\n"
     ]
    },
    {
     "name": "stdout",
     "output_type": "stream",
     "text": [
      "--------------------------------------------------------------------------------\n",
      "    SOURCE: He appealed to his son.\n",
      "    TARGET: Il se tourna vers son fils.\n",
      " PREDICTED: Il fit un appel à son fils .\n",
      "--------------------------------------------------------------------------------\n",
      "    SOURCE: Cette petite surprise chassa l’ennui : « Voilà un gaillard, se dit-il, pour lequel on va me demander Dieu sait quelles faveurs, toutes celles dont je puis disposer.\n",
      "    TARGET: This little surprise dispelled his boredom: \"Here is a fellow,\" he said to himself, \"for whom they will be asking me heaven knows what favours, everything that I have to bestow.\n",
      " PREDICTED: That little surprise drove the boredom : \" There is a ,\" he said to himself , \" to which one is to ask for me how God knows , all those which I can promise .\n",
      "--------------------------------------------------------------------------------\n"
     ]
    },
    {
     "name": "stderr",
     "output_type": "stream",
     "text": [
      "Training on Epoch 12: 100%|██████████| 834/834 [03:24<00:00,  4.08it/s, Loss_Acc=2.041, Loss=2.077, Sqn_L=129]\n"
     ]
    },
    {
     "name": "stdout",
     "output_type": "stream",
     "text": [
      "--------------------------------------------------------------------------------\n",
      "    SOURCE: As for Elizabeth, her thoughts were at Pemberley this evening more than the last; and the evening, though as it passed it seemed long, was not long enough to determine her feelings towards _one_ in that mansion; and she lay awake two whole hours endeavouring to make them out.\n",
      "    TARGET: Quant a Elizabeth, ses pensées étaient a Pemberley ce soir-la plus encore que la veille. La fin de la journée lui parut longue mais ne le fut pas encore assez pour lui permettre de déterminer la nature exacte des sentiments qu’elle éprouvait a l’égard d’un des habitants du château, et elle resta éveillée deux bonnes heures, cherchant a voir clair dans son esprit.\n",
      " PREDICTED: Quant a Elizabeth , elle avait a Pemberley plus que la fin . La soirée , bien que le temps se fut bientôt passée , ne fut pas assez longue pour se faire sentir dans le château en personne , elle se réveilla en deux heures .\n",
      "--------------------------------------------------------------------------------\n",
      "    SOURCE: Am I more happy than she is? We have her cash, I have no need to constrain myself.\"\n",
      "    TARGET: Est-ce que je suis plus heureux qu'elle, moi?… Nous avons son argent, je n'ai pas besoin de me gêner.\n",
      " PREDICTED: Est - ce que je suis plus heureuse que sa bourse ? nous avons sa fortune , je n ’ ai pas besoin de m ’ y rendre .\n",
      "--------------------------------------------------------------------------------\n"
     ]
    },
    {
     "name": "stderr",
     "output_type": "stream",
     "text": [
      "Training on Epoch 13: 100%|██████████| 834/834 [03:24<00:00,  4.08it/s, Loss_Acc=2.014, Loss=2.063, Sqn_L=71]\n"
     ]
    },
    {
     "name": "stdout",
     "output_type": "stream",
     "text": [
      "--------------------------------------------------------------------------------\n",
      "    SOURCE: \"The miserable villain! He had foreseen all. His breast was covered with a coat-of-mail; the knife was bent against it.\n",
      "    TARGET: «Le misérable! il avait tout prévu: sa poitrine était couverte d'une cotte de mailles; le couteau s'émoussa.\n",
      " PREDICTED: -- Le misérable ! il avait tout prévu , la poitrine se couvrit d ' un habit de ; le couteau s ' y .\n",
      "--------------------------------------------------------------------------------\n",
      "    SOURCE: A small picture presented the interior of an immensely long and rectangular vault or tunnel, with low walls, smooth, white, and without interruption or device.\n",
      "    TARGET: C'était un petit tableau représentant l'intérieur d'une cave ou d'un souterrain immensément long, rectangulaire, avec des murs bas, polis, blancs, sans aucun ornement, sans aucune interruption.\n",
      " PREDICTED: Un petit tableau présentait l ' intérieur d ' une voûte assez considérable , de cette voûte ou de , aux murs bas blancs , blancs et sans rupture .\n",
      "--------------------------------------------------------------------------------\n"
     ]
    },
    {
     "name": "stderr",
     "output_type": "stream",
     "text": [
      "Training on Epoch 14: 100%|██████████| 834/834 [03:24<00:00,  4.08it/s, Loss_Acc=1.989, Loss=1.866, Sqn_L=57]\n"
     ]
    },
    {
     "name": "stdout",
     "output_type": "stream",
     "text": [
      "--------------------------------------------------------------------------------\n",
      "    SOURCE: \"Knock some of the soot off him, Lord Frederick!\" they shouted.\n",
      "    TARGET: -- Secouez-lui un peu sa suie, Lord Frederick, criaient-ils.\n",
      " PREDICTED: « de la suie , de l ' eau , Lord Frederick ! cria - t - on .\n",
      "--------------------------------------------------------------------------------\n",
      "    SOURCE: Le pauvre homme a ajouté quelques supplications assez mal tournées et assez inopportunes après le mot “adieu” prononcé par moi.\n",
      "    TARGET: The poor man added various supplications, by no means well expressed and distinctly inopportune after the word Good-bye had been uttered by me.\n",
      " PREDICTED: The poor man added a few gay times , and quite , after the words , uttered by me .\n",
      "--------------------------------------------------------------------------------\n"
     ]
    },
    {
     "name": "stderr",
     "output_type": "stream",
     "text": [
      "Training on Epoch 15: 100%|██████████| 834/834 [03:25<00:00,  4.05it/s, Loss_Acc=1.967, Loss=2.113, Sqn_L=44]\n"
     ]
    },
    {
     "name": "stdout",
     "output_type": "stream",
     "text": [
      "--------------------------------------------------------------------------------\n",
      "    SOURCE: She sank down on the low chair, trembling, with her forehead between her hands.\n",
      "    TARGET: Elle retomba sur la chaise basse, frémissante, le front entre les mains.\n",
      " PREDICTED: Elle tomba sur la chaise basse , tremblante , le front entre ses mains .\n",
      "--------------------------------------------------------------------------------\n",
      "    SOURCE: \"Yes, sire.\"\n",
      "    TARGET: – Oui, Sire.\n",
      " PREDICTED: -- Oui , Sire .\n",
      "--------------------------------------------------------------------------------\n"
     ]
    },
    {
     "name": "stderr",
     "output_type": "stream",
     "text": [
      "Training on Epoch 16: 100%|██████████| 834/834 [03:25<00:00,  4.07it/s, Loss_Acc=1.946, Loss=2.023, Sqn_L=73]\n"
     ]
    },
    {
     "name": "stdout",
     "output_type": "stream",
     "text": [
      "--------------------------------------------------------------------------------\n",
      "    SOURCE: But it is never too late to be wise; and I cannot but advise all considering men, whose lives are attended with such extraordinary incidents as mine, or even though not so extraordinary, not to slight such secret intimations of Providence, let them come from what invisible intelligence they will.\n",
      "    TARGET: Mais il n'est jamais trop tard pour être sage, et je ne puis que conseiller à tout homme judicieux dont la vie est exposée à des événements extraordinaires comme le fut la mienne, ou même à de moindres événements, de ne jamais mépriser de pareils avertissements intimes de la Providence, ou de n'importe quelle intelligence invisible il voudra.\n",
      " PREDICTED: Mais il n ' est pas trop tard pour être sage , et je ne saurais donner de conseils à des hommes dont la vie est accompagnée de circonstances extraordinaires , ou bien même elle ne doit pas avoir le temps d ' une extrême de la Providence , laissez - les venir de son intelligence invisible .\n",
      "--------------------------------------------------------------------------------\n",
      "    SOURCE: \"I'm right sorry to be so late, Sir Charles,\" he cried.\n",
      "    TARGET: -- Je suis bien fâché d'arriver aussi tard, Sir Charles.\n",
      " PREDICTED: -- Je suis fâché d ’ être si tard , Sir Charles , s ’ écria - t - il .\n",
      "--------------------------------------------------------------------------------\n"
     ]
    },
    {
     "name": "stderr",
     "output_type": "stream",
     "text": [
      "Training on Epoch 17: 100%|██████████| 834/834 [03:25<00:00,  4.06it/s, Loss_Acc=1.927, Loss=1.873, Sqn_L=62]\n"
     ]
    },
    {
     "name": "stdout",
     "output_type": "stream",
     "text": [
      "--------------------------------------------------------------------------------\n",
      "    SOURCE: Why has Brigham Young, our chief, been imprisoned, in contempt of all justice?\n",
      "    TARGET: Céderons-nous à la force ?\n",
      " PREDICTED: Pourquoi a - t - il de tels que nous , notre chef , était emprisonné dans le mépris de toute justice ?\n",
      "--------------------------------------------------------------------------------\n",
      "    SOURCE: Various duties awaited me on my arrival. I had to sit with the girls during their hour of study; then it was my turn to read prayers; to see them to bed: afterwards I supped with the other teachers.\n",
      "    TARGET: Différents devoirs m'attendaient à mon arrivée: il fallait rester avec les enfants pendant l'heure de l'étude; c'était à moi de lire les prières, d'assister au coucher des élèves; ensuite vint le souper avec les maîtresses; enfin, lorsque nous nous retirâmes, l'inévitable Mlle Gryee partagea encore ma chambre.\n",
      " PREDICTED: J ' étais prêt à rester avec les jeunes filles pendant l ' heure de l ' étude ; je me mis à lire ; j ' avais des prières pour les lire et les voir se coucher ; j ' en ai soupé plus tard avec les autres maîtresses .\n",
      "--------------------------------------------------------------------------------\n"
     ]
    },
    {
     "name": "stderr",
     "output_type": "stream",
     "text": [
      "Training on Epoch 18: 100%|██████████| 834/834 [03:24<00:00,  4.08it/s, Loss_Acc=1.909, Loss=1.866, Sqn_L=60]\n"
     ]
    },
    {
     "name": "stdout",
     "output_type": "stream",
     "text": [
      "--------------------------------------------------------------------------------\n",
      "    SOURCE: Cacambo set out the same day. This Cacambo was a very honest fellow.\n",
      "    TARGET: Cacambo partit dès le jour même: c'était un très bon homme que ce Cacambo.\n",
      " PREDICTED: Cacambo aujourd ' hui même , et Cacambo était un garçon très honnête .\n",
      "--------------------------------------------------------------------------------\n",
      "    SOURCE: I mean he has better luck than you.\"\n",
      "    TARGET: Je veux dire qu'il a plus de chance que toi.\n",
      " PREDICTED: Je veux dire qu ' il vaut mieux que toi .\n",
      "--------------------------------------------------------------------------------\n"
     ]
    },
    {
     "name": "stderr",
     "output_type": "stream",
     "text": [
      "Training on Epoch 19: 100%|██████████| 834/834 [03:25<00:00,  4.05it/s, Loss_Acc=1.893, Loss=1.927, Sqn_L=58]\n"
     ]
    },
    {
     "name": "stdout",
     "output_type": "stream",
     "text": [
      "--------------------------------------------------------------------------------\n",
      "    SOURCE: This was said with a careless, abstracted indifference, which showed that my solicitude was, at least in his opinion, wholly superfluous.\n",
      "    TARGET: Il dit ces mots avec indifférence et d'un air absorbé, ce qui me prouva qu'à ses yeux ma sollicitude était au moins superflue.\n",
      " PREDICTED: Ceci fut dit avec une indifférence sans et sans indifférence et que j ’ aperçus que ma sollicitude était , du moins son opinion sur ses sentiments .\n",
      "--------------------------------------------------------------------------------\n",
      "    SOURCE: You know what Servius saith: '~Nullus enim locus sine genio est~,−−for there is no place that hath not its spirit.'\"\n",
      "    TARGET: Vous savez ce que dit Servius : Nullus enim locus sine genio est. »\n",
      " PREDICTED: Vous savez ce que dit : les y sont sans place qui n ’ a pas le ! »\n",
      "--------------------------------------------------------------------------------\n"
     ]
    },
    {
     "name": "stderr",
     "output_type": "stream",
     "text": [
      "Training on Epoch 20: 100%|██████████| 834/834 [03:25<00:00,  4.06it/s, Loss_Acc=1.877, Loss=1.902, Sqn_L=76]\n"
     ]
    },
    {
     "name": "stdout",
     "output_type": "stream",
     "text": [
      "--------------------------------------------------------------------------------\n",
      "    SOURCE: She did not seem to trouble herself in the least about Laurent. She barely looked at him, rarely exchanged a word with him, treating him with perfect indifference.\n",
      "    TARGET: Il lui semblait que Laurent n'existât pas pour elle; elle le regardait à peine, lui adressait de rares paroles, le traitait avec une indifférence parfaite.\n",
      " PREDICTED: Elle ne paraissait pas se gêner du moins autour de Laurent ; à peine elle le regardait , bien que rarement , avec lui , le traitait avec une indifférence parfaite .\n",
      "--------------------------------------------------------------------------------\n",
      "    SOURCE: « Je crois en effet, répondit-il, que nous avons fait absolument tout ce qu’il y avait a faire ; toutefois c’est un cas fort curieux et, comme je connais votre gout pour ce qui est extraordinaire….\n",
      "    TARGET: \"I think we have done all that can be done,\" he answered; \"it's a queer case though, and I knew your taste for such things.\"\n",
      " PREDICTED: \" I think that we have done ,\" he answered , \" that we have absolutely all the that there was to do . This is a very curious case , and , as I know your goutte to a common .\n",
      "--------------------------------------------------------------------------------\n"
     ]
    },
    {
     "name": "stderr",
     "output_type": "stream",
     "text": [
      "Training on Epoch 21: 100%|██████████| 834/834 [03:25<00:00,  4.07it/s, Loss_Acc=1.863, Loss=1.831, Sqn_L=82]\n"
     ]
    },
    {
     "name": "stdout",
     "output_type": "stream",
     "text": [
      "--------------------------------------------------------------------------------\n",
      "    SOURCE: Both resumed their way.\n",
      "    TARGET: Et tous deux reprirent leur course.\n",
      " PREDICTED: Tous deux reprirent leur chemin .\n",
      "--------------------------------------------------------------------------------\n",
      "    SOURCE: D’Artagnan, hearing the Musketeer swear, wished to escape from the cloak, which blinded him, and sought to find his way from under the folds of it.\n",
      "    TARGET: D'Artagnan, entendant jurer le mousquetaire, voulut sortir de dessous le manteau qui l'aveuglait, et chercha son chemin dans le pli.\n",
      " PREDICTED: D ' Artagnan , entendant le mousquetaire , voulut fuir du manteau qui l ' impassible , et voulut trouver sa route sous les plis de la rue .\n",
      "--------------------------------------------------------------------------------\n"
     ]
    },
    {
     "name": "stderr",
     "output_type": "stream",
     "text": [
      "Training on Epoch 22: 100%|██████████| 834/834 [03:25<00:00,  4.06it/s, Loss_Acc=1.850, Loss=1.875, Sqn_L=132]\n"
     ]
    },
    {
     "name": "stdout",
     "output_type": "stream",
     "text": [
      "--------------------------------------------------------------------------------\n",
      "    SOURCE: Julien, locked and double-locked in his room, was a prey to the most violent despair.\n",
      "    TARGET: Julien, enfermé à double tour dans sa chambre, était en proie au plus violent désespoir.\n",
      " PREDICTED: Julien , fermée à double tour dans sa chambre , était en proie au plus fort désespoir .\n",
      "--------------------------------------------------------------------------------\n",
      "    SOURCE: \"Come, let us go back to supper.\n",
      "    TARGET: Ah! bah! allons nous remettre à table.\n",
      " PREDICTED: -- Allons , allons souper .\n",
      "--------------------------------------------------------------------------------\n"
     ]
    },
    {
     "name": "stderr",
     "output_type": "stream",
     "text": [
      "Training on Epoch 23: 100%|██████████| 834/834 [03:25<00:00,  4.05it/s, Loss_Acc=1.838, Loss=1.801, Sqn_L=95]\n"
     ]
    },
    {
     "name": "stdout",
     "output_type": "stream",
     "text": [
      "--------------------------------------------------------------------------------\n",
      "    SOURCE: A smile passed over the servant's face.\n",
      "    TARGET: Un sourire passa sur la figure du domestique.\n",
      " PREDICTED: Un sourire passa sur la figure de la bonne .\n",
      "--------------------------------------------------------------------------------\n",
      "    SOURCE: St. John smiled.\n",
      "    TARGET: Saint-John sourit.\n",
      " PREDICTED: Saint - John sourit .\n",
      "--------------------------------------------------------------------------------\n"
     ]
    },
    {
     "name": "stderr",
     "output_type": "stream",
     "text": [
      "Training on Epoch 24: 100%|██████████| 834/834 [03:25<00:00,  4.05it/s, Loss_Acc=1.825, Loss=1.822, Sqn_L=87]\n"
     ]
    },
    {
     "name": "stdout",
     "output_type": "stream",
     "text": [
      "--------------------------------------------------------------------------------\n",
      "    SOURCE: He had seen her, accompanied by her goat, take to the Rue de la Coutellerie; he took the Rue de la Coutellerie.\n",
      "    TARGET: Il lui avait vu prendre, avec sa chèvre, la rue de la Coutellerie ; il avait pris la rue de la Coutellerie.\n",
      " PREDICTED: Il l ’ avait vue , accompagné de sa chèvre , prendre la rue de la Coutellerie , il prit la rue de la saut .\n",
      "--------------------------------------------------------------------------------\n",
      "    SOURCE: \"What do you call him?\"\n",
      "    TARGET: – Comment le nommez-vous ?\n",
      " PREDICTED: -- Qu ' appelez - vous ?\n",
      "--------------------------------------------------------------------------------\n"
     ]
    },
    {
     "name": "stderr",
     "output_type": "stream",
     "text": [
      "Training on Epoch 25: 100%|██████████| 834/834 [03:25<00:00,  4.07it/s, Loss_Acc=1.814, Loss=1.781, Sqn_L=106]\n"
     ]
    },
    {
     "name": "stdout",
     "output_type": "stream",
     "text": [
      "--------------------------------------------------------------------------------\n",
      "    SOURCE: \"Now, let me try.\"\n",
      "    TARGET: --Maintenant laissez-moi essayer.\n",
      " PREDICTED: -- Maintenant , laissez - moi faire .\n",
      "--------------------------------------------------------------------------------\n",
      "    SOURCE: At last he mastered her arms; Grace Poole gave him a cord, and he pinioned them behind her: with more rope, which was at hand, he bound her to a chair.\n",
      "    TARGET: Enfin il s'empara des bras de la folle, il les lui attacha derrière le dos avec une corde que lui donna Grace; avec une autre corde, il la lia à une chaise.\n",
      " PREDICTED: Enfin il se rendit à ses bras ; Grace Poole lui donna une corde , et les bras liés ; il était à une corde plus que lui , il la lui fallait sur une chaise .\n",
      "--------------------------------------------------------------------------------\n"
     ]
    },
    {
     "name": "stderr",
     "output_type": "stream",
     "text": [
      "Training on Epoch 26: 100%|██████████| 834/834 [03:25<00:00,  4.07it/s, Loss_Acc=1.804, Loss=1.887, Sqn_L=63]\n"
     ]
    },
    {
     "name": "stdout",
     "output_type": "stream",
     "text": [
      "--------------------------------------------------------------------------------\n",
      "    SOURCE: Charles's conversation was commonplace as a street pavement, and everyone's ideas trooped through it in their everyday garb, without exciting emotion, laughter, or thought.\n",
      "    TARGET: La conversation de Charles était plate comme un trottoir de rue, et les idées de tout le monde y défilaient dans leur costume ordinaire, sans exciter d’émotion, de rire ou de rêverie.\n",
      " PREDICTED: La conversation de Charles était assez commune comme une rue , et les idées de tous , le , se trouvant en leurs vêtements de bonne et sans armes , sans grand air , ou songea .\n",
      "--------------------------------------------------------------------------------\n",
      "    SOURCE: And I do not want a stranger--unsympathising, alien, different from me; I want my kindred: those with whom I have full fellow- feeling.\n",
      "    TARGET: Je ne veux pas d'un étranger qui serait différent de moi, et avec lequel je ne pourrais pas sympathiser.\n",
      " PREDICTED: -- Moi , monsieur , je ne veux pas qu ' un étranger .\n",
      "--------------------------------------------------------------------------------\n"
     ]
    },
    {
     "name": "stderr",
     "output_type": "stream",
     "text": [
      "Training on Epoch 27: 100%|██████████| 834/834 [03:24<00:00,  4.07it/s, Loss_Acc=1.794, Loss=1.773, Sqn_L=54]\n"
     ]
    },
    {
     "name": "stdout",
     "output_type": "stream",
     "text": [
      "--------------------------------------------------------------------------------\n",
      "    SOURCE: And do you know I've only one regret, that we didn't let the old man strangle the Piolaine girl.\n",
      "    TARGET: Et, tu ne sais pas? je n'ai qu'un regret, c'est de n'avoir pas laissé le vieux étrangler la fille de la Piolaine…\n",
      " PREDICTED: Et savez - vous que je n ' ai plus qu ' un regret , que nous ne pas le vieux a étrangler la Piolaine .\n",
      "--------------------------------------------------------------------------------\n",
      "    SOURCE: \"Sooner.\" said Aramis.\n",
      "    TARGET: -- Tôt, dit Aramis.\n",
      " PREDICTED: -- tôt , dit Aramis .\n",
      "--------------------------------------------------------------------------------\n"
     ]
    },
    {
     "name": "stderr",
     "output_type": "stream",
     "text": [
      "Training on Epoch 28: 100%|██████████| 834/834 [03:25<00:00,  4.07it/s, Loss_Acc=1.785, Loss=1.782, Sqn_L=46]\n"
     ]
    },
    {
     "name": "stdout",
     "output_type": "stream",
     "text": [
      "--------------------------------------------------------------------------------\n",
      "    SOURCE: The grass stretches right up to the very base of the wall, and my feet made little noise until I reached the crumbling arch where the old gate used to be.\n",
      "    TARGET: L'herbe monte jusqu'au bas même du mur, et mes pieds ne firent que peu de bruit jusqu'au moment où j'arrivai à l'arc coulant où se trouvait jadis l'entrée.\n",
      " PREDICTED: Les herbes se sont exacts jusqu ’ à la base du mur et mes pieds firent le bruit jusqu ’ à l ’ intérieur où se trouvait la vieille grille .\n",
      "--------------------------------------------------------------------------------\n",
      "    SOURCE: The Canadian looked carefully.\n",
      "    TARGET: Le Canadien regarda attentivement.\n",
      " PREDICTED: Le Canadien regarda avec attention .\n",
      "--------------------------------------------------------------------------------\n"
     ]
    },
    {
     "name": "stderr",
     "output_type": "stream",
     "text": [
      "Training on Epoch 29: 100%|██████████| 834/834 [03:27<00:00,  4.02it/s, Loss_Acc=1.776, Loss=1.783, Sqn_L=79]\n"
     ]
    },
    {
     "name": "stdout",
     "output_type": "stream",
     "text": [
      "--------------------------------------------------------------------------------\n",
      "    SOURCE: During her absence, a neighbor had seen two gypsies ascend up to it with a bundle in their arms, then descend again, after closing the door.\n",
      "    TARGET: Pendant son absence, une voisine avait vu deux égyptiennes y monter en cachette avec un paquet dans leurs bras, puis redescendre après avoir refermé la porte, et s’enfuir en hâte.\n",
      " PREDICTED: Pendant son absence , un voisin avait connu deux égyptiennes en y monter avec un paquet de leurs bras ; puis redescendre la porte , en fermant la porte .\n",
      "--------------------------------------------------------------------------------\n",
      "    SOURCE: Lastly, this liquid being partly evaporated, crystals of sulphate of iron were deposited, and the not evaporated liquid, which contained the sulphate of alumina, was thrown away.\n",
      "    TARGET: Enfin, ce liquide s'étant vaporisé en partie, des cristaux de sulfate de fer se déposèrent, et les eaux-mères, c'est-à-dire le liquide non vaporisé, qui contenait du sulfate d'alumine, furent abandonnées.\n",
      " PREDICTED: Enfin , ce liquide se à demi , des cristaux de sulfate de fer fut déposés , et le long cours d ' alumine , qui contenaient l ' sulfate d ' alumine , s ' .\n",
      "--------------------------------------------------------------------------------\n"
     ]
    },
    {
     "name": "stderr",
     "output_type": "stream",
     "text": [
      "Training on Epoch 30: 100%|██████████| 834/834 [03:24<00:00,  4.08it/s, Loss_Acc=1.768, Loss=1.815, Sqn_L=62]\n"
     ]
    },
    {
     "name": "stdout",
     "output_type": "stream",
     "text": [
      "--------------------------------------------------------------------------------\n",
      "    SOURCE: Now there only remained the Piolaine people.\n",
      "    TARGET: Maintenant, il ne lui restait que les bourgeois de la Piolaine.\n",
      " PREDICTED: Maintenant , il ne restait plus que les bourgeois de la Piolaine .\n",
      "--------------------------------------------------------------------------------\n",
      "    SOURCE: Je fais, en passant, un profond salut à la citadelle, que le courage de monsignore et l’esprit de Madame viennent de déshonorer ; je prends un sentier dans la campagne, de moi bien connu, et je fais mon entrée à la Ricciarda.\n",
      "    TARGET: I make, as I pass it, a profound bow to the citadel, which Monsignore's courage and the Signora's spirit have succeeded in disgracing; I take a path across country, which I know well, and I make my entry into La Ricciarda.\"\n",
      " PREDICTED: I am breaking , on traversa and a profound to the citadel , that the courage of Monsignore and the spirit of the Signora have been able to ; I take a path through the country , and I am making my entry into La Ricciarda .\n",
      "--------------------------------------------------------------------------------\n"
     ]
    },
    {
     "name": "stderr",
     "output_type": "stream",
     "text": [
      "Training on Epoch 31: 100%|██████████| 834/834 [03:25<00:00,  4.06it/s, Loss_Acc=1.760, Loss=1.754, Sqn_L=67]\n"
     ]
    },
    {
     "name": "stdout",
     "output_type": "stream",
     "text": [
      "--------------------------------------------------------------------------------\n",
      "    SOURCE: \"Your music subscription is out; am I to renew it?\"\n",
      "    TARGET: -- Votre abonnement de musique est terminé, dois-je le reprendre?\n",
      " PREDICTED: Votre affaire est en train de louer ; je le lui renouveler ?\n",
      "--------------------------------------------------------------------------------\n",
      "    SOURCE: He never met the eyes either of his mother or his brother; to avoid hisgaze theirs had become surprisingly alert, with the cunning of foes whofear to cross each other.\n",
      "    TARGET: Jamais il ne rencontrait plus le regard de sa mère ou le regard de sonfrère. Leurs yeux pour s'éviter avaient pris une mobilité surprenanteet des ruses d'ennemis qui redoutent de se croiser.\n",
      " PREDICTED: Il ne rencontrait jamais les yeux ni de sa mère ni de son frère ; pour éviter les étaient et les de leur façon à montrer les plus tendres .\n",
      "--------------------------------------------------------------------------------\n"
     ]
    },
    {
     "name": "stderr",
     "output_type": "stream",
     "text": [
      "Training on Epoch 32: 100%|██████████| 834/834 [03:25<00:00,  4.06it/s, Loss_Acc=1.752, Loss=1.716, Sqn_L=69]\n"
     ]
    },
    {
     "name": "stdout",
     "output_type": "stream",
     "text": [
      "--------------------------------------------------------------------------------\n",
      "    SOURCE: She dared not even mention that gentleman.\n",
      "    TARGET: Darcy. Elle n’osait meme pas nommer ce dernier.\n",
      " PREDICTED: Elle n ’ osa pas même parler de ce gentilhomme .\n",
      "--------------------------------------------------------------------------------\n",
      "    SOURCE: At first Étienne thought she was speaking of the low noise of the ever-rising water.\n",
      "    TARGET: D'abord, Étienne crut qu'elle parlait du petit bruit de l'eau montant toujours.\n",
      " PREDICTED: D ' abord , Étienne crut parler au bruit bas du fleuve qui montait .\n",
      "--------------------------------------------------------------------------------\n"
     ]
    },
    {
     "name": "stderr",
     "output_type": "stream",
     "text": [
      "Training on Epoch 33: 100%|██████████| 834/834 [03:25<00:00,  4.07it/s, Loss_Acc=1.746, Loss=1.781, Sqn_L=132]\n"
     ]
    },
    {
     "name": "stdout",
     "output_type": "stream",
     "text": [
      "--------------------------------------------------------------------------------\n",
      "    SOURCE: You had to go down a rather steep slope paved here and there; then, taking two or three turns amongst weavers' back yards and empty stables, you came to a wide blind alley closed up by a farmyard long since deserted.\n",
      "    TARGET: On descendait d’abord une pente assez raide, dallée de place en place, puis après avoir tourné deux ou trois fois, entre des petites cours de tisserands ou des écuries vides, on arrivait dans une large impasse fermée par une cour de ferme depuis longtemps abandonnée.\n",
      " PREDICTED: Il fallut descendre un peu de pente raide , vers le sud , puis prenant deux ou trois tours de tisserands autour de l ’ écurie vides et vide , vous êtes tombé dans une grande allée déserte depuis une longue cour déserte .\n",
      "--------------------------------------------------------------------------------\n",
      "    SOURCE: On his wrists and ankles could be seen great bruises.\n",
      "    TARGET: À ses poignets et à ses chevilles se voyaient de larges meurtrissures.\n",
      " PREDICTED: On voyait sur ses poignets , aux grands contusions .\n",
      "--------------------------------------------------------------------------------\n"
     ]
    },
    {
     "name": "stderr",
     "output_type": "stream",
     "text": [
      "Training on Epoch 34: 100%|██████████| 834/834 [03:24<00:00,  4.07it/s, Loss_Acc=1.739, Loss=1.710, Sqn_L=56]\n"
     ]
    },
    {
     "name": "stdout",
     "output_type": "stream",
     "text": [
      "--------------------------------------------------------------------------------\n",
      "    SOURCE: But my husband, having so dexterously got out of the bailiff's house by letting himself down in a most desperate manner from almost the top of the house to the top of another building, and leaping from thence, which was almost two storeys, and which was enough indeed to have broken his neck, he came home and got away his goods before the creditors could come to seize; that is to say, before they could get out the commission, and be ready to send their officers to take possession.\n",
      "    TARGET: Mais mon mari s'étant désespérément échappé de chez le baillif, en se laissant tomber presque du haut de la maison sur le haut d'un autre bâtiment d'où il avait sauté et qui avait presque deux étages, en quoi il manqua de bien peu se casser le cou, il rentra et emmena ses marchandises avant que les créanciers pussent venir saisir, c'est-à-dire, avant qu'ils eussent obtenu la commission à temps pour envoyer les officiers prendre possession.\n",
      " PREDICTED: Mais mon mari , ayant si adroitement été aussi adroitement hors de la maison du bailli , en se laissant à son cou le plus désespéré de la maison d ’ en haut en bas d ’ un autre logis et de là - dessus deux curieux , qui avait assez de faiblesse pour se rompre le cou , il revint chez lui ses marchandises que les créanciers n ’ eussent pu tenir , c ’ est - à - dire avant qu ’ on leur eût pu sortir les et prêts à prendre leur garde .\n",
      "--------------------------------------------------------------------------------\n",
      "    SOURCE: \"Have you formed any plan, Cyrus?\" asked the reporter.\n",
      "    TARGET: -- Avez-vous un projet, Cyrus? demanda le reporter.\n",
      " PREDICTED: -- Avez - vous pris quelque plan , Cyrus ? demanda le reporter .\n",
      "--------------------------------------------------------------------------------\n"
     ]
    },
    {
     "name": "stderr",
     "output_type": "stream",
     "text": [
      "Training on Epoch 35: 100%|██████████| 834/834 [03:24<00:00,  4.07it/s, Loss_Acc=1.733, Loss=1.763, Sqn_L=59]\n"
     ]
    },
    {
     "name": "stdout",
     "output_type": "stream",
     "text": [
      "--------------------------------------------------------------------------------\n",
      "    SOURCE: After this, I made a great heavy pestle or beater of the wood called the iron-wood; and this I prepared and laid by against I had my next crop of corn, which I proposed to myself to grind, or rather pound into meal to make bread.\n",
      "    TARGET: Je fis enfin une hie ou grand pilon avec de ce bois appelé _bois de fer_, et je mis de côté ces instruments en attendant ma prochaine récolte, après laquelle je me proposai de moudre mon grain, au plutôt de l'égruger, pour faire du pain.\n",
      " PREDICTED: Après cela , je fis de grands ou du bois qu ' on appelait le , et je en la récolte de blé , que je me à , ou plutôt de livre pour faire du pain .\n",
      "--------------------------------------------------------------------------------\n",
      "    SOURCE: I say again, all the gentlemen that do so ought to be used in the same manner, and then they would be cautious of themselves.\n",
      "    TARGET: Je le répète encore, tous les gentilshommes qui agissent ainsi devraient être traités de la même manière, et cela les porterait à veiller sur leurs actions.\n",
      " PREDICTED: Je le répète , tous les gentilshommes qui devaient être aussi , et puis ils se d ’ eux - memes .\n",
      "--------------------------------------------------------------------------------\n"
     ]
    },
    {
     "name": "stderr",
     "output_type": "stream",
     "text": [
      "Training on Epoch 36: 100%|██████████| 834/834 [03:25<00:00,  4.05it/s, Loss_Acc=1.728, Loss=1.687, Sqn_L=86]\n"
     ]
    },
    {
     "name": "stdout",
     "output_type": "stream",
     "text": [
      "--------------------------------------------------------------------------------\n",
      "    SOURCE: Here, being detained by bad weather for some time, the captain, who continued the same kind, good-humoured man as at first, took us two on shore with him again.\n",
      "    TARGET: Là, ayant été retenus par le mauvais temps, le capitaine qui continuait de montrer la même humeur charmante, nous emmena de nouveau tous deux à terre.\n",
      " PREDICTED: Là , le mauvais temps le capitaine , qui , pendant quelque temps , continuait le même homme d ' esprit , de bonne humeur qu ' au premier , nous emmena deux sur le rivage .\n",
      "--------------------------------------------------------------------------------\n",
      "    SOURCE: She raised her dry, red eyes to heaven, to the sun, to the silvery clouds, cut here and there by a blue trapezium or triangle; then she lowered them to objects around her, to the earth, the throng, the houses; all at once, while the yellow man was binding her elbows, she uttered a terrible cry, a cry of joy.\n",
      "    TARGET: Elle leva ses yeux rouges et secs vers le ciel, vers le soleil, vers les nuages d’argent coupés çà et là de trapèzes et de triangles bleus, puis elle les abaissa autour d’elle, sur la terre, sur la foule, sur les maisons… Tout à coup, tandis que l’homme jaune lui liait les coudes, elle poussa un cri terrible, un cri de joie.\n",
      " PREDICTED: Elle la souleva , les yeux rouges au ciel , au soleil d ’ argent , frappa çà et là et là par un triangle bleu ou un triangle bleu ; puis elle les baissa pour se ranger autour d ’ elle , à la foule , les maisons ; toutes à la fois , tandis que l ’ homme jaune se penchait les coudes , elle poussa un cri terrible , un cri de joie .\n",
      "--------------------------------------------------------------------------------\n"
     ]
    },
    {
     "name": "stderr",
     "output_type": "stream",
     "text": [
      "Training on Epoch 37: 100%|██████████| 834/834 [03:25<00:00,  4.05it/s, Loss_Acc=1.722, Loss=1.791, Sqn_L=47]\n"
     ]
    },
    {
     "name": "stdout",
     "output_type": "stream",
     "text": [
      "--------------------------------------------------------------------------------\n",
      "    SOURCE: And thus, as a closer and still closer intimacy admitted me more unreservedly into the recesses of his spirit, the more bitterly did I perceive the futility of all attempt at cheering a mind from which darkness, as if an inherent positive quality, poured forth upon all objects of the moral and physical universe in one unceasing radiation of gloom.\n",
      "    TARGET: Et ainsi, à mesure qu'une intimité de plus en plus étroite m'ouvrait plus familièrement les profondeurs de son âme, je reconnaissais plus amèrement la vanité de tous mes efforts pour ramener un esprit, d'où la nuit, comme une propriété qui lui aurait été inhérente, déversait sur tous les objets de l'univers physique et moral une irradiation incessante de ténèbres.\n",
      " PREDICTED: Ainsi , comme une plus profonde et encore plus profonde intimité m ' avait pris en moi un peu de son esprit , plus amèrement encore m ' de toutes les épreuves de sa vie par où s ' ils avaient pour moi une qualité plus positive , une qualité sûre et remplie de choses la morale et l ' univers physique sans relâche .\n",
      "--------------------------------------------------------------------------------\n",
      "    SOURCE: The pointed arch is found between the two.\n",
      "    TARGET: L’ogive est entre deux.\n",
      " PREDICTED: L ' ogive est entre les deux .\n",
      "--------------------------------------------------------------------------------\n"
     ]
    },
    {
     "name": "stderr",
     "output_type": "stream",
     "text": [
      "Training on Epoch 38: 100%|██████████| 834/834 [03:25<00:00,  4.05it/s, Loss_Acc=1.717, Loss=1.721, Sqn_L=63]\n"
     ]
    },
    {
     "name": "stdout",
     "output_type": "stream",
     "text": [
      "--------------------------------------------------------------------------------\n",
      "    SOURCE: The hasty departure from London soon after the robbery; the large sum carried by Mr. Fogg; his eagerness to reach distant countries; the pretext of an eccentric and foolhardy bet--all confirmed Fix in his theory.\n",
      "    TARGET: Ce départ précipité de Londres, peu de temps après le vol, cette grosse somme emportée, cette hâte d'arriver en des pays lointains, ce prétexte d'un pari excentrique, tout confirmait et devait confirmer Fix dans ses idées.\n",
      " PREDICTED: Le départ de Londres avant l ' vol , la somme énorme portait Mr . Fogg , son empressement à gagner des contrées éloignées ; le prétexte d ' une folie singulière et pari tout ce que lui avait fait l ' inspecteur de police .\n",
      "--------------------------------------------------------------------------------\n",
      "    SOURCE: But before he left, he again gazed at the canvases and said to Laurent:\n",
      "    TARGET: Avant de partir, il regarda encore les toiles et dit à Laurent:\n",
      " PREDICTED: Mais , avant de partir , il regarda encore les toiles et dit à Laurent :\n",
      "--------------------------------------------------------------------------------\n"
     ]
    },
    {
     "name": "stderr",
     "output_type": "stream",
     "text": [
      "Training on Epoch 39: 100%|██████████| 834/834 [03:25<00:00,  4.06it/s, Loss_Acc=1.712, Loss=1.685, Sqn_L=60]\n"
     ]
    },
    {
     "name": "stdout",
     "output_type": "stream",
     "text": [
      "--------------------------------------------------------------------------------\n",
      "    SOURCE: The blows which he received increased greatly his esteem and friendship for Monsieur de Treville.\n",
      "    TARGET: Les coups qu'il en reçut lui donnèrent beaucoup d'estime et d'amitié pour M. de Tréville.\n",
      " PREDICTED: Les coups qu ' il recevait fort son estime et son amitié pour M . de Tréville .\n",
      "--------------------------------------------------------------------------------\n",
      "    SOURCE: \"The great cardinal!\"\n",
      "    TARGET: -- Le grand cardinal!\n",
      " PREDICTED: -- Le grand cardinal !\n",
      "--------------------------------------------------------------------------------\n"
     ]
    },
    {
     "name": "stderr",
     "output_type": "stream",
     "text": [
      "Training on Epoch 40: 100%|██████████| 834/834 [03:25<00:00,  4.07it/s, Loss_Acc=1.708, Loss=1.742, Sqn_L=82]\n"
     ]
    },
    {
     "name": "stdout",
     "output_type": "stream",
     "text": [
      "--------------------------------------------------------------------------------\n",
      "    SOURCE: But incredulity and indifference were evidently my strongest cards.\n",
      "    TARGET: L’incrédulité et l’indifférence demeuraient mes atouts majeurs.\n",
      " PREDICTED: Mais l ' incrédulité et de ne pas croire aux plus sérieuses mes forces .\n",
      "--------------------------------------------------------------------------------\n",
      "    SOURCE: Indeed, the Committee of the Thames Angler's Association did recommend its adoption about two years ago, but some of the older members opposed it.\n",
      "    TARGET: En effet, il y a deux ans, l’Association des pecheurs a la ligne de la Tamise a recommandé son usage, mais quelquesuns de ses membres les plus anciens s’y opposerent.\n",
      " PREDICTED: En effet , l ’ Association de la Tamise se dirigea d ’ abord vers son , mais l ’ on s ’ y est opposée un des membres de la vieille .\n",
      "--------------------------------------------------------------------------------\n"
     ]
    },
    {
     "name": "stderr",
     "output_type": "stream",
     "text": [
      "Training on Epoch 41: 100%|██████████| 834/834 [03:25<00:00,  4.05it/s, Loss_Acc=1.703, Loss=1.689, Sqn_L=77]\n"
     ]
    },
    {
     "name": "stdout",
     "output_type": "stream",
     "text": [
      "--------------------------------------------------------------------------------\n",
      "    SOURCE: But he was alone!\n",
      "    TARGET: Mais il était seul!\n",
      " PREDICTED: Mais il était seul !\n",
      "--------------------------------------------------------------------------------\n",
      "    SOURCE: I have been a selfish being all my life, in practice, though not in principle. As a child I was taught what was right, but I was not taught to correct my temper.\n",
      "    TARGET: J’ai vécu jusqu’ici en égoiste : enfant, on m’a enseigné a faire le bien, mais on ne m’a pas appris a corriger mon caractere.\n",
      " PREDICTED: J ' ai été un être égoïste toute ma vie , à l ' exercice , mais je n ' ai pas enseigné le bien , mais je n ' ai pas été habituée à me corriger .\n",
      "--------------------------------------------------------------------------------\n"
     ]
    },
    {
     "name": "stderr",
     "output_type": "stream",
     "text": [
      "Training on Epoch 42: 100%|██████████| 834/834 [03:25<00:00,  4.06it/s, Loss_Acc=1.699, Loss=1.720, Sqn_L=71]\n"
     ]
    },
    {
     "name": "stdout",
     "output_type": "stream",
     "text": [
      "--------------------------------------------------------------------------------\n",
      "    SOURCE: \"No freight.\n",
      "    TARGET: -- Des cailloux dans le ventre.\n",
      " PREDICTED: -- Ne pas .\n",
      "--------------------------------------------------------------------------------\n",
      "    SOURCE: Cahusac immediately ran to the Guardsman whom Aramis had killed, seized his rapier, and returned toward d’Artagnan; but on his way he met Athos, who during his relief which d’Artagnan had procured him had recovered his breath, and who, for fear that d’Artagnan would kill his enemy, wished to resume the fight.\n",
      "    TARGET: Cahusac courut à celui des gardes qu'avait tué Aramis, s'empara de sa rapière, et voulut revenir à d'Artagnan; mais sur son chemin il rencontra Athos, qui, pendant cette pause d'un instant que lui avait procurée d'Artagnan, avait repris haleine, et qui, de crainte que d'Artagnan ne lui tuât son ennemi, voulait recommencer le combat.\n",
      " PREDICTED: Cahusac se retourna aussitôt au garde qu ' Aramis avait tué , saisit son empire et revint près de d ' Artagnan ; mais , sur sa route , il rencontra Athos , qui pendant son aide que d ' Artagnan l ' avait faite tout à fait , et qui , par crainte que d ' Artagnan son ennemi , voulut reprendre le combat .\n",
      "--------------------------------------------------------------------------------\n"
     ]
    },
    {
     "name": "stderr",
     "output_type": "stream",
     "text": [
      "Training on Epoch 43: 100%|██████████| 834/834 [03:26<00:00,  4.04it/s, Loss_Acc=1.696, Loss=1.655, Sqn_L=98]\n"
     ]
    },
    {
     "name": "stdout",
     "output_type": "stream",
     "text": [
      "--------------------------------------------------------------------------------\n",
      "    SOURCE: 'I must be getting somewhere near the centre of the earth.\n",
      "    TARGET: « Je dois être bien près du centre de la terre.\n",
      " PREDICTED: Il faut que je m ’ quelque part au centre de la terre .\n",
      "--------------------------------------------------------------------------------\n",
      "    SOURCE: They were seized with fever and delirium, and this obstacle, in their minds, became material.\n",
      "    TARGET: C'était comme un obstacle ignoble qui les séparait.\n",
      " PREDICTED: Ils avaient eu l ' idée de la fièvre et de l ' ivresse , cet obstacle , l ' esprit .\n",
      "--------------------------------------------------------------------------------\n"
     ]
    },
    {
     "name": "stderr",
     "output_type": "stream",
     "text": [
      "Training on Epoch 44: 100%|██████████| 834/834 [03:24<00:00,  4.07it/s, Loss_Acc=1.692, Loss=1.728, Sqn_L=78]\n"
     ]
    },
    {
     "name": "stdout",
     "output_type": "stream",
     "text": [
      "--------------------------------------------------------------------------------\n",
      "    SOURCE: Among the thousands of visages which that light tinged with scarlet, there was one which seemed, even more than all the others, absorbed in contemplation of the dancer.\n",
      "    TARGET: Parmi les mille visages que cette lueur teignait d’écarlate, il y en avait un qui semblait plus encore que tous les autres absorbé dans la contemplation de la danseuse.\n",
      " PREDICTED: Parmi les visages de certains petits tas qui de écarlate , il y avait une qui semblait , plus que tous , absorbé dans la contemplation de la danseuse .\n",
      "--------------------------------------------------------------------------------\n",
      "    SOURCE: However, a fire could be made by means of the moss and dry brushwood, which covered certain parts of the plateau.\n",
      "    TARGET: Cependant, on pouvait obtenir du feu au moyen des mousses et des broussailles sèches qui hérissaient certaines portions du plateau.\n",
      " PREDICTED: On pouvait , en effet , un feu , les terrains marin et les taillis sèches , qui couvraient certains parties du plateau .\n",
      "--------------------------------------------------------------------------------\n"
     ]
    },
    {
     "name": "stderr",
     "output_type": "stream",
     "text": [
      "Training on Epoch 45: 100%|██████████| 834/834 [03:26<00:00,  4.03it/s, Loss_Acc=1.689, Loss=1.698, Sqn_L=69]\n"
     ]
    },
    {
     "name": "stdout",
     "output_type": "stream",
     "text": [
      "--------------------------------------------------------------------------------\n",
      "    SOURCE: One of the first days after his return he came down to see us, and there for the first time he clapped eyes upon de Lapp.\n",
      "    TARGET: Dès les premiers jours de son retour, il descendit pour nous rendre visite, et alors ses yeux se portèrent pour la première fois sur de Lapp.\n",
      " PREDICTED: Un des premiers jours après son retour , il descendit voir , et là , pour la première fois , il frappa des yeux de Lapp .\n",
      "--------------------------------------------------------------------------------\n",
      "    SOURCE: Les adieux furent tristes ; Robert partit avec le comte Pietranera qui suivait les Français dans leur retraite sur Novi.\n",
      "    TARGET: Their parting was a sad one; Robert set forth with Conte Pietranera, who followed the French in their retirement on Novi.\n",
      " PREDICTED: The most were ; Robert went on with Conte Pietranera , who was following the French to retire on their retreat .\n",
      "--------------------------------------------------------------------------------\n"
     ]
    },
    {
     "name": "stderr",
     "output_type": "stream",
     "text": [
      "Training on Epoch 46: 100%|██████████| 834/834 [03:26<00:00,  4.03it/s, Loss_Acc=1.686, Loss=1.659, Sqn_L=60]\n"
     ]
    },
    {
     "name": "stdout",
     "output_type": "stream",
     "text": [
      "--------------------------------------------------------------------------------\n",
      "    SOURCE: \"You're a deal changed from what you used to be, Jack,\" said she, looking at me sideways from under her dark lashes.\n",
      "    TARGET: -- Vous êtes bien changé de ce que vous étiez autrefois, disait- elle en me regardant de côté par-dessous ses cils noirs.\n",
      " PREDICTED: -- Vous avez bien changé de ce que vous étiez servi , Jock , me dit - elle en me regardant de côté sous ses sourcils noirs .\n",
      "--------------------------------------------------------------------------------\n",
      "    SOURCE: January 8.\n",
      "    TARGET: \"8 janvier.\n",
      " PREDICTED: \" 8 janvier .\n",
      "--------------------------------------------------------------------------------\n"
     ]
    },
    {
     "name": "stderr",
     "output_type": "stream",
     "text": [
      "Training on Epoch 47: 100%|██████████| 834/834 [03:25<00:00,  4.05it/s, Loss_Acc=1.683, Loss=1.643, Sqn_L=45]\n"
     ]
    },
    {
     "name": "stdout",
     "output_type": "stream",
     "text": [
      "--------------------------------------------------------------------------------\n",
      "    SOURCE: \"Yes, the document which we found enclosed in a bottle, giving us the exact position of Tabor Island!\"\n",
      "    TARGET: -- Oui, ce document enfermé dans une bouteille que nous avons trouvé, et qui donnait la situation exacte de l'île Tabor!»\n",
      " PREDICTED: -- Oui , le document que nous avons trouvé enfermé dans une bouteille , et nous donnait le point de vue exactement de l ' île Tabor !\n",
      "--------------------------------------------------------------------------------\n",
      "    SOURCE: XVII\n",
      "    TARGET: CHAPITRE XVII\n",
      " PREDICTED: XVII\n",
      "--------------------------------------------------------------------------------\n"
     ]
    },
    {
     "name": "stderr",
     "output_type": "stream",
     "text": [
      "Training on Epoch 48: 100%|██████████| 834/834 [03:23<00:00,  4.09it/s, Loss_Acc=1.681, Loss=1.767, Sqn_L=109]\n"
     ]
    },
    {
     "name": "stdout",
     "output_type": "stream",
     "text": [
      "--------------------------------------------------------------------------------\n",
      "    SOURCE: Entraîné par les événements, nous n’avons pas eu le temps d’esquisser la race comique de courtisans qui pullulent à la cour de Parme et faisaient de drôles de commentaires sur les événements par nous racontés.\n",
      "    TARGET: Carried away by the train of events, we have not had time to sketch the comic race of courtiers who swarm at the court of Parma and who made fatuous comments on the incidents which we have related.\n",
      " PREDICTED: by such events , we have not time to hear the public of courtiers who betrayed at the court of Parma , and for the comments of the events on we have just related .\n",
      "--------------------------------------------------------------------------------\n",
      "    SOURCE: One Sunday, Camille, Therese and Laurent left for Saint-Ouen after breakfast, at about eleven o'clock.\n",
      "    TARGET: Un dimanche, Camille, Thérèse et Laurent partirent pour Saint-Ouen vers onze heures, après le déjeuner.\n",
      " PREDICTED: Un dimanche , Camille et Laurent s ' étaient quittés pour la Saint - Ouen , en onze heures environ .\n",
      "--------------------------------------------------------------------------------\n"
     ]
    },
    {
     "name": "stderr",
     "output_type": "stream",
     "text": [
      "Training on Epoch 49: 100%|██████████| 834/834 [03:24<00:00,  4.07it/s, Loss_Acc=1.678, Loss=1.684, Sqn_L=89]\n"
     ]
    },
    {
     "name": "stdout",
     "output_type": "stream",
     "text": [
      "--------------------------------------------------------------------------------\n",
      "    SOURCE: They had formed their plans: on rising from table, Paul Négrel was to take the ladies to a mine, Saint-Thomas, which had been luxuriously reinstalled.\n",
      "    TARGET: C'était toute une partie projetée: en sortant de table, Paul Négrel devait faire visiter a ces dames une fosse, Saint-Thomas, qu'on réinstallait avec luxe.\n",
      " PREDICTED: Ils avaient préparé leurs projets ; sur des qu ' ils allaient , Paul Négrel devait prendre les dames chez une mine , Saint - Thomas , qui avait été .\n",
      "--------------------------------------------------------------------------------\n",
      "    SOURCE: No one is unaware of the existence of that great warm-water current known by name as the Gulf Stream.\n",
      "    TARGET: Personne n'ignore l'existence de ce grand courant d'eau chaude connu sous le nom de Gulf Stream.\n",
      " PREDICTED: On n ' ignore pas l ' existence de ce grand courant de mer tiede , connu par son nom comme le Gulf - Stream .\n",
      "--------------------------------------------------------------------------------\n"
     ]
    }
   ],
   "source": [
    "train_model(get_config())"
   ]
  },
  {
   "cell_type": "code",
   "execution_count": null,
   "metadata": {
    "id": "i0Xrd5GGE2xv"
   },
   "outputs": [],
   "source": []
  }
 ],
 "metadata": {
  "accelerator": "GPU",
  "colab": {
   "gpuType": "A100",
   "machine_shape": "hm",
   "provenance": []
  },
  "kernelspec": {
   "display_name": "Python 3 (ipykernel)",
   "language": "python",
   "name": "python3"
  },
  "language_info": {
   "codemirror_mode": {
    "name": "ipython",
    "version": 3
   },
   "file_extension": ".py",
   "mimetype": "text/x-python",
   "name": "python",
   "nbconvert_exporter": "python",
   "pygments_lexer": "ipython3",
   "version": "3.9.7"
  },
  "widgets": {
   "application/vnd.jupyter.widget-state+json": {
    "0324cde96e964b57a517d5fd5c173082": {
     "model_module": "@jupyter-widgets/controls",
     "model_module_version": "1.5.0",
     "model_name": "DescriptionStyleModel",
     "state": {
      "_model_module": "@jupyter-widgets/controls",
      "_model_module_version": "1.5.0",
      "_model_name": "DescriptionStyleModel",
      "_view_count": null,
      "_view_module": "@jupyter-widgets/base",
      "_view_module_version": "1.2.0",
      "_view_name": "StyleView",
      "description_width": ""
     }
    },
    "048182332d5b44998de19ef3c355c9e9": {
     "model_module": "@jupyter-widgets/controls",
     "model_module_version": "1.5.0",
     "model_name": "FloatProgressModel",
     "state": {
      "_dom_classes": [],
      "_model_module": "@jupyter-widgets/controls",
      "_model_module_version": "1.5.0",
      "_model_name": "FloatProgressModel",
      "_view_count": null,
      "_view_module": "@jupyter-widgets/controls",
      "_view_module_version": "1.5.0",
      "_view_name": "ProgressView",
      "bar_style": "success",
      "description": "",
      "description_tooltip": null,
      "layout": "IPY_MODEL_b44d6c17e50c4b16905e5591cd8bf03b",
      "max": 12009501,
      "min": 0,
      "orientation": "horizontal",
      "style": "IPY_MODEL_707259337981423c8eb2f33b37f2354e",
      "value": 12009501
     }
    },
    "08c3fa0f5dee41bcbd983399cc2ed829": {
     "model_module": "@jupyter-widgets/controls",
     "model_module_version": "1.5.0",
     "model_name": "FloatProgressModel",
     "state": {
      "_dom_classes": [],
      "_model_module": "@jupyter-widgets/controls",
      "_model_module_version": "1.5.0",
      "_model_name": "FloatProgressModel",
      "_view_count": null,
      "_view_module": "@jupyter-widgets/controls",
      "_view_module_version": "1.5.0",
      "_view_name": "ProgressView",
      "bar_style": "success",
      "description": "",
      "description_tooltip": null,
      "layout": "IPY_MODEL_20f848a1cda7432c99ae3916973fdbbd",
      "max": 161154,
      "min": 0,
      "orientation": "horizontal",
      "style": "IPY_MODEL_3b2cb2dc48424f1cb35fa162e118f49e",
      "value": 161154
     }
    },
    "126e8938b6564ce99137971a0bbddb54": {
     "model_module": "@jupyter-widgets/controls",
     "model_module_version": "1.5.0",
     "model_name": "FloatProgressModel",
     "state": {
      "_dom_classes": [],
      "_model_module": "@jupyter-widgets/controls",
      "_model_module_version": "1.5.0",
      "_model_name": "FloatProgressModel",
      "_view_count": null,
      "_view_module": "@jupyter-widgets/controls",
      "_view_module_version": "1.5.0",
      "_view_name": "ProgressView",
      "bar_style": "success",
      "description": "",
      "description_tooltip": null,
      "layout": "IPY_MODEL_3011682d63f84e2e83032c0dc9081553",
      "max": 127085,
      "min": 0,
      "orientation": "horizontal",
      "style": "IPY_MODEL_d03f1b06c6b141378b824bd4fa6aec42",
      "value": 127085
     }
    },
    "130328d99d804941bf466413c6de8e55": {
     "model_module": "@jupyter-widgets/controls",
     "model_module_version": "1.5.0",
     "model_name": "HTMLModel",
     "state": {
      "_dom_classes": [],
      "_model_module": "@jupyter-widgets/controls",
      "_model_module_version": "1.5.0",
      "_model_name": "HTMLModel",
      "_view_count": null,
      "_view_module": "@jupyter-widgets/controls",
      "_view_module_version": "1.5.0",
      "_view_name": "HTMLView",
      "description": "",
      "description_tooltip": null,
      "layout": "IPY_MODEL_d8b0dc1bc1ed4d91a7d8ad409f639082",
      "placeholder": "​",
      "style": "IPY_MODEL_b0ff43768ee84012b6f51cd0f9a66aa7",
      "value": "Downloading metadata: 100%"
     }
    },
    "1eae8499274c413794544bd24054c54f": {
     "model_module": "@jupyter-widgets/controls",
     "model_module_version": "1.5.0",
     "model_name": "ProgressStyleModel",
     "state": {
      "_model_module": "@jupyter-widgets/controls",
      "_model_module_version": "1.5.0",
      "_model_name": "ProgressStyleModel",
      "_view_count": null,
      "_view_module": "@jupyter-widgets/base",
      "_view_module_version": "1.2.0",
      "_view_name": "StyleView",
      "bar_color": null,
      "description_width": ""
     }
    },
    "1ff4a849ddbe4eb5a74ddd672ed7975d": {
     "model_module": "@jupyter-widgets/controls",
     "model_module_version": "1.5.0",
     "model_name": "HTMLModel",
     "state": {
      "_dom_classes": [],
      "_model_module": "@jupyter-widgets/controls",
      "_model_module_version": "1.5.0",
      "_model_name": "HTMLModel",
      "_view_count": null,
      "_view_module": "@jupyter-widgets/controls",
      "_view_module_version": "1.5.0",
      "_view_name": "HTMLView",
      "description": "",
      "description_tooltip": null,
      "layout": "IPY_MODEL_e930169a43c04578b217349ff0d622a4",
      "placeholder": "​",
      "style": "IPY_MODEL_a055821d8a3f48189a72336d01e26e06",
      "value": " 12.0M/12.0M [00:02&lt;00:00, 9.16MB/s]"
     }
    },
    "20f848a1cda7432c99ae3916973fdbbd": {
     "model_module": "@jupyter-widgets/base",
     "model_module_version": "1.2.0",
     "model_name": "LayoutModel",
     "state": {
      "_model_module": "@jupyter-widgets/base",
      "_model_module_version": "1.2.0",
      "_model_name": "LayoutModel",
      "_view_count": null,
      "_view_module": "@jupyter-widgets/base",
      "_view_module_version": "1.2.0",
      "_view_name": "LayoutView",
      "align_content": null,
      "align_items": null,
      "align_self": null,
      "border": null,
      "bottom": null,
      "display": null,
      "flex": null,
      "flex_flow": null,
      "grid_area": null,
      "grid_auto_columns": null,
      "grid_auto_flow": null,
      "grid_auto_rows": null,
      "grid_column": null,
      "grid_gap": null,
      "grid_row": null,
      "grid_template_areas": null,
      "grid_template_columns": null,
      "grid_template_rows": null,
      "height": null,
      "justify_content": null,
      "justify_items": null,
      "left": null,
      "margin": null,
      "max_height": null,
      "max_width": null,
      "min_height": null,
      "min_width": null,
      "object_fit": null,
      "object_position": null,
      "order": null,
      "overflow": null,
      "overflow_x": null,
      "overflow_y": null,
      "padding": null,
      "right": null,
      "top": null,
      "visibility": null,
      "width": null
     }
    },
    "276a299aa5164cf494cc3644358cce92": {
     "model_module": "@jupyter-widgets/base",
     "model_module_version": "1.2.0",
     "model_name": "LayoutModel",
     "state": {
      "_model_module": "@jupyter-widgets/base",
      "_model_module_version": "1.2.0",
      "_model_name": "LayoutModel",
      "_view_count": null,
      "_view_module": "@jupyter-widgets/base",
      "_view_module_version": "1.2.0",
      "_view_name": "LayoutView",
      "align_content": null,
      "align_items": null,
      "align_self": null,
      "border": null,
      "bottom": null,
      "display": null,
      "flex": null,
      "flex_flow": null,
      "grid_area": null,
      "grid_auto_columns": null,
      "grid_auto_flow": null,
      "grid_auto_rows": null,
      "grid_column": null,
      "grid_gap": null,
      "grid_row": null,
      "grid_template_areas": null,
      "grid_template_columns": null,
      "grid_template_rows": null,
      "height": null,
      "justify_content": null,
      "justify_items": null,
      "left": null,
      "margin": null,
      "max_height": null,
      "max_width": null,
      "min_height": null,
      "min_width": null,
      "object_fit": null,
      "object_position": null,
      "order": null,
      "overflow": null,
      "overflow_x": null,
      "overflow_y": null,
      "padding": null,
      "right": null,
      "top": null,
      "visibility": null,
      "width": null
     }
    },
    "285d880450044c7e8e7019590b40c116": {
     "model_module": "@jupyter-widgets/base",
     "model_module_version": "1.2.0",
     "model_name": "LayoutModel",
     "state": {
      "_model_module": "@jupyter-widgets/base",
      "_model_module_version": "1.2.0",
      "_model_name": "LayoutModel",
      "_view_count": null,
      "_view_module": "@jupyter-widgets/base",
      "_view_module_version": "1.2.0",
      "_view_name": "LayoutView",
      "align_content": null,
      "align_items": null,
      "align_self": null,
      "border": null,
      "bottom": null,
      "display": null,
      "flex": null,
      "flex_flow": null,
      "grid_area": null,
      "grid_auto_columns": null,
      "grid_auto_flow": null,
      "grid_auto_rows": null,
      "grid_column": null,
      "grid_gap": null,
      "grid_row": null,
      "grid_template_areas": null,
      "grid_template_columns": null,
      "grid_template_rows": null,
      "height": null,
      "justify_content": null,
      "justify_items": null,
      "left": null,
      "margin": null,
      "max_height": null,
      "max_width": null,
      "min_height": null,
      "min_width": null,
      "object_fit": null,
      "object_position": null,
      "order": null,
      "overflow": null,
      "overflow_x": null,
      "overflow_y": null,
      "padding": null,
      "right": null,
      "top": null,
      "visibility": null,
      "width": null
     }
    },
    "3011682d63f84e2e83032c0dc9081553": {
     "model_module": "@jupyter-widgets/base",
     "model_module_version": "1.2.0",
     "model_name": "LayoutModel",
     "state": {
      "_model_module": "@jupyter-widgets/base",
      "_model_module_version": "1.2.0",
      "_model_name": "LayoutModel",
      "_view_count": null,
      "_view_module": "@jupyter-widgets/base",
      "_view_module_version": "1.2.0",
      "_view_name": "LayoutView",
      "align_content": null,
      "align_items": null,
      "align_self": null,
      "border": null,
      "bottom": null,
      "display": null,
      "flex": null,
      "flex_flow": null,
      "grid_area": null,
      "grid_auto_columns": null,
      "grid_auto_flow": null,
      "grid_auto_rows": null,
      "grid_column": null,
      "grid_gap": null,
      "grid_row": null,
      "grid_template_areas": null,
      "grid_template_columns": null,
      "grid_template_rows": null,
      "height": null,
      "justify_content": null,
      "justify_items": null,
      "left": null,
      "margin": null,
      "max_height": null,
      "max_width": null,
      "min_height": null,
      "min_width": null,
      "object_fit": null,
      "object_position": null,
      "order": null,
      "overflow": null,
      "overflow_x": null,
      "overflow_y": null,
      "padding": null,
      "right": null,
      "top": null,
      "visibility": null,
      "width": null
     }
    },
    "3b2cb2dc48424f1cb35fa162e118f49e": {
     "model_module": "@jupyter-widgets/controls",
     "model_module_version": "1.5.0",
     "model_name": "ProgressStyleModel",
     "state": {
      "_model_module": "@jupyter-widgets/controls",
      "_model_module_version": "1.5.0",
      "_model_name": "ProgressStyleModel",
      "_view_count": null,
      "_view_module": "@jupyter-widgets/base",
      "_view_module_version": "1.2.0",
      "_view_name": "StyleView",
      "bar_color": null,
      "description_width": ""
     }
    },
    "3cbb0a7513454d828ee5d49199782555": {
     "model_module": "@jupyter-widgets/controls",
     "model_module_version": "1.5.0",
     "model_name": "HTMLModel",
     "state": {
      "_dom_classes": [],
      "_model_module": "@jupyter-widgets/controls",
      "_model_module_version": "1.5.0",
      "_model_name": "HTMLModel",
      "_view_count": null,
      "_view_module": "@jupyter-widgets/controls",
      "_view_module_version": "1.5.0",
      "_view_name": "HTMLView",
      "description": "",
      "description_tooltip": null,
      "layout": "IPY_MODEL_978050a172564e639a1d7de90291dd08",
      "placeholder": "​",
      "style": "IPY_MODEL_ba856cdc670840cb82828db40b48161c",
      "value": "Generating train split: 100%"
     }
    },
    "3d224f3cf239432db974303de5507a8c": {
     "model_module": "@jupyter-widgets/controls",
     "model_module_version": "1.5.0",
     "model_name": "HTMLModel",
     "state": {
      "_dom_classes": [],
      "_model_module": "@jupyter-widgets/controls",
      "_model_module_version": "1.5.0",
      "_model_name": "HTMLModel",
      "_view_count": null,
      "_view_module": "@jupyter-widgets/controls",
      "_view_module_version": "1.5.0",
      "_view_name": "HTMLView",
      "description": "",
      "description_tooltip": null,
      "layout": "IPY_MODEL_cb3eaf7c42454472b82fb3c881a071ab",
      "placeholder": "​",
      "style": "IPY_MODEL_c2db8ca2d4c04a9fb9c9edce24a1aa50",
      "value": " 6.08k/6.08k [00:00&lt;00:00, 450kB/s]"
     }
    },
    "4621d90074e7419a8f032e2192fc2aa7": {
     "model_module": "@jupyter-widgets/base",
     "model_module_version": "1.2.0",
     "model_name": "LayoutModel",
     "state": {
      "_model_module": "@jupyter-widgets/base",
      "_model_module_version": "1.2.0",
      "_model_name": "LayoutModel",
      "_view_count": null,
      "_view_module": "@jupyter-widgets/base",
      "_view_module_version": "1.2.0",
      "_view_name": "LayoutView",
      "align_content": null,
      "align_items": null,
      "align_self": null,
      "border": null,
      "bottom": null,
      "display": null,
      "flex": null,
      "flex_flow": null,
      "grid_area": null,
      "grid_auto_columns": null,
      "grid_auto_flow": null,
      "grid_auto_rows": null,
      "grid_column": null,
      "grid_gap": null,
      "grid_row": null,
      "grid_template_areas": null,
      "grid_template_columns": null,
      "grid_template_rows": null,
      "height": null,
      "justify_content": null,
      "justify_items": null,
      "left": null,
      "margin": null,
      "max_height": null,
      "max_width": null,
      "min_height": null,
      "min_width": null,
      "object_fit": null,
      "object_position": null,
      "order": null,
      "overflow": null,
      "overflow_x": null,
      "overflow_y": null,
      "padding": null,
      "right": null,
      "top": null,
      "visibility": null,
      "width": null
     }
    },
    "48cc35adc7c64dd8aed5079810ef8ae5": {
     "model_module": "@jupyter-widgets/controls",
     "model_module_version": "1.5.0",
     "model_name": "DescriptionStyleModel",
     "state": {
      "_model_module": "@jupyter-widgets/controls",
      "_model_module_version": "1.5.0",
      "_model_name": "DescriptionStyleModel",
      "_view_count": null,
      "_view_module": "@jupyter-widgets/base",
      "_view_module_version": "1.2.0",
      "_view_name": "StyleView",
      "description_width": ""
     }
    },
    "4c50ad8ac1a94c95a90193e5165eb2dc": {
     "model_module": "@jupyter-widgets/controls",
     "model_module_version": "1.5.0",
     "model_name": "HBoxModel",
     "state": {
      "_dom_classes": [],
      "_model_module": "@jupyter-widgets/controls",
      "_model_module_version": "1.5.0",
      "_model_name": "HBoxModel",
      "_view_count": null,
      "_view_module": "@jupyter-widgets/controls",
      "_view_module_version": "1.5.0",
      "_view_name": "HBoxView",
      "box_style": "",
      "children": [
       "IPY_MODEL_3cbb0a7513454d828ee5d49199782555",
       "IPY_MODEL_126e8938b6564ce99137971a0bbddb54",
       "IPY_MODEL_b40cffd901fe48b28437283629f1621d"
      ],
      "layout": "IPY_MODEL_7a90b88bba644aacabcdc5889792c7cb"
     }
    },
    "4c83da28e54e4e84ae10dc915c864baf": {
     "model_module": "@jupyter-widgets/controls",
     "model_module_version": "1.5.0",
     "model_name": "HTMLModel",
     "state": {
      "_dom_classes": [],
      "_model_module": "@jupyter-widgets/controls",
      "_model_module_version": "1.5.0",
      "_model_name": "HTMLModel",
      "_view_count": null,
      "_view_module": "@jupyter-widgets/controls",
      "_view_module_version": "1.5.0",
      "_view_name": "HTMLView",
      "description": "",
      "description_tooltip": null,
      "layout": "IPY_MODEL_f0dd5e2d358546b0bd5337a4b5e0e651",
      "placeholder": "​",
      "style": "IPY_MODEL_9b56ae95768141bfa6860b55f05c2c21",
      "value": "Downloading readme: 100%"
     }
    },
    "6dc8fdb406154c919a08eaeb137aa2ea": {
     "model_module": "@jupyter-widgets/base",
     "model_module_version": "1.2.0",
     "model_name": "LayoutModel",
     "state": {
      "_model_module": "@jupyter-widgets/base",
      "_model_module_version": "1.2.0",
      "_model_name": "LayoutModel",
      "_view_count": null,
      "_view_module": "@jupyter-widgets/base",
      "_view_module_version": "1.2.0",
      "_view_name": "LayoutView",
      "align_content": null,
      "align_items": null,
      "align_self": null,
      "border": null,
      "bottom": null,
      "display": null,
      "flex": null,
      "flex_flow": null,
      "grid_area": null,
      "grid_auto_columns": null,
      "grid_auto_flow": null,
      "grid_auto_rows": null,
      "grid_column": null,
      "grid_gap": null,
      "grid_row": null,
      "grid_template_areas": null,
      "grid_template_columns": null,
      "grid_template_rows": null,
      "height": null,
      "justify_content": null,
      "justify_items": null,
      "left": null,
      "margin": null,
      "max_height": null,
      "max_width": null,
      "min_height": null,
      "min_width": null,
      "object_fit": null,
      "object_position": null,
      "order": null,
      "overflow": null,
      "overflow_x": null,
      "overflow_y": null,
      "padding": null,
      "right": null,
      "top": null,
      "visibility": null,
      "width": null
     }
    },
    "6efaca08a0664906b6d1997247bb0545": {
     "model_module": "@jupyter-widgets/controls",
     "model_module_version": "1.5.0",
     "model_name": "HBoxModel",
     "state": {
      "_dom_classes": [],
      "_model_module": "@jupyter-widgets/controls",
      "_model_module_version": "1.5.0",
      "_model_name": "HBoxModel",
      "_view_count": null,
      "_view_module": "@jupyter-widgets/controls",
      "_view_module_version": "1.5.0",
      "_view_name": "HBoxView",
      "box_style": "",
      "children": [
       "IPY_MODEL_4c83da28e54e4e84ae10dc915c864baf",
       "IPY_MODEL_7dd799d9631841fdae8655ca852133b2",
       "IPY_MODEL_bd92f69e5dcf4fbc82e624d3824d9160"
      ],
      "layout": "IPY_MODEL_4621d90074e7419a8f032e2192fc2aa7"
     }
    },
    "707259337981423c8eb2f33b37f2354e": {
     "model_module": "@jupyter-widgets/controls",
     "model_module_version": "1.5.0",
     "model_name": "ProgressStyleModel",
     "state": {
      "_model_module": "@jupyter-widgets/controls",
      "_model_module_version": "1.5.0",
      "_model_name": "ProgressStyleModel",
      "_view_count": null,
      "_view_module": "@jupyter-widgets/base",
      "_view_module_version": "1.2.0",
      "_view_name": "StyleView",
      "bar_color": null,
      "description_width": ""
     }
    },
    "74a0ed05516e4d1cabfbca80cc02135d": {
     "model_module": "@jupyter-widgets/controls",
     "model_module_version": "1.5.0",
     "model_name": "HTMLModel",
     "state": {
      "_dom_classes": [],
      "_model_module": "@jupyter-widgets/controls",
      "_model_module_version": "1.5.0",
      "_model_name": "HTMLModel",
      "_view_count": null,
      "_view_module": "@jupyter-widgets/controls",
      "_view_module_version": "1.5.0",
      "_view_name": "HTMLView",
      "description": "",
      "description_tooltip": null,
      "layout": "IPY_MODEL_b59488ee1b4e4bf29d02fb3c56acc4f2",
      "placeholder": "​",
      "style": "IPY_MODEL_b98c5642ac6d4be29400ee8a0295ced2",
      "value": " 161k/161k [00:00&lt;00:00, 234kB/s]"
     }
    },
    "7a90b88bba644aacabcdc5889792c7cb": {
     "model_module": "@jupyter-widgets/base",
     "model_module_version": "1.2.0",
     "model_name": "LayoutModel",
     "state": {
      "_model_module": "@jupyter-widgets/base",
      "_model_module_version": "1.2.0",
      "_model_name": "LayoutModel",
      "_view_count": null,
      "_view_module": "@jupyter-widgets/base",
      "_view_module_version": "1.2.0",
      "_view_name": "LayoutView",
      "align_content": null,
      "align_items": null,
      "align_self": null,
      "border": null,
      "bottom": null,
      "display": null,
      "flex": null,
      "flex_flow": null,
      "grid_area": null,
      "grid_auto_columns": null,
      "grid_auto_flow": null,
      "grid_auto_rows": null,
      "grid_column": null,
      "grid_gap": null,
      "grid_row": null,
      "grid_template_areas": null,
      "grid_template_columns": null,
      "grid_template_rows": null,
      "height": null,
      "justify_content": null,
      "justify_items": null,
      "left": null,
      "margin": null,
      "max_height": null,
      "max_width": null,
      "min_height": null,
      "min_width": null,
      "object_fit": null,
      "object_position": null,
      "order": null,
      "overflow": null,
      "overflow_x": null,
      "overflow_y": null,
      "padding": null,
      "right": null,
      "top": null,
      "visibility": null,
      "width": null
     }
    },
    "7c458c876701406c950f1ccf5e7897e7": {
     "model_module": "@jupyter-widgets/controls",
     "model_module_version": "1.5.0",
     "model_name": "HBoxModel",
     "state": {
      "_dom_classes": [],
      "_model_module": "@jupyter-widgets/controls",
      "_model_module_version": "1.5.0",
      "_model_name": "HBoxModel",
      "_view_count": null,
      "_view_module": "@jupyter-widgets/controls",
      "_view_module_version": "1.5.0",
      "_view_name": "HBoxView",
      "box_style": "",
      "children": [
       "IPY_MODEL_130328d99d804941bf466413c6de8e55",
       "IPY_MODEL_08c3fa0f5dee41bcbd983399cc2ed829",
       "IPY_MODEL_74a0ed05516e4d1cabfbca80cc02135d"
      ],
      "layout": "IPY_MODEL_f90fb33f463c4f25be3e30f78638c96c"
     }
    },
    "7dd799d9631841fdae8655ca852133b2": {
     "model_module": "@jupyter-widgets/controls",
     "model_module_version": "1.5.0",
     "model_name": "FloatProgressModel",
     "state": {
      "_dom_classes": [],
      "_model_module": "@jupyter-widgets/controls",
      "_model_module_version": "1.5.0",
      "_model_name": "FloatProgressModel",
      "_view_count": null,
      "_view_module": "@jupyter-widgets/controls",
      "_view_module_version": "1.5.0",
      "_view_name": "ProgressView",
      "bar_style": "success",
      "description": "",
      "description_tooltip": null,
      "layout": "IPY_MODEL_276a299aa5164cf494cc3644358cce92",
      "max": 20464,
      "min": 0,
      "orientation": "horizontal",
      "style": "IPY_MODEL_1eae8499274c413794544bd24054c54f",
      "value": 20464
     }
    },
    "88adb201a5e44095b0003990325c36a6": {
     "model_module": "@jupyter-widgets/controls",
     "model_module_version": "1.5.0",
     "model_name": "HBoxModel",
     "state": {
      "_dom_classes": [],
      "_model_module": "@jupyter-widgets/controls",
      "_model_module_version": "1.5.0",
      "_model_name": "HBoxModel",
      "_view_count": null,
      "_view_module": "@jupyter-widgets/controls",
      "_view_module_version": "1.5.0",
      "_view_name": "HBoxView",
      "box_style": "",
      "children": [
       "IPY_MODEL_a2d6b1816d244610b9ffc58ad06b9765",
       "IPY_MODEL_048182332d5b44998de19ef3c355c9e9",
       "IPY_MODEL_1ff4a849ddbe4eb5a74ddd672ed7975d"
      ],
      "layout": "IPY_MODEL_dea534679da54266ba6daa90c24e2f8b"
     }
    },
    "96f24145d47c4266b3fe49dc870a6706": {
     "model_module": "@jupyter-widgets/base",
     "model_module_version": "1.2.0",
     "model_name": "LayoutModel",
     "state": {
      "_model_module": "@jupyter-widgets/base",
      "_model_module_version": "1.2.0",
      "_model_name": "LayoutModel",
      "_view_count": null,
      "_view_module": "@jupyter-widgets/base",
      "_view_module_version": "1.2.0",
      "_view_name": "LayoutView",
      "align_content": null,
      "align_items": null,
      "align_self": null,
      "border": null,
      "bottom": null,
      "display": null,
      "flex": null,
      "flex_flow": null,
      "grid_area": null,
      "grid_auto_columns": null,
      "grid_auto_flow": null,
      "grid_auto_rows": null,
      "grid_column": null,
      "grid_gap": null,
      "grid_row": null,
      "grid_template_areas": null,
      "grid_template_columns": null,
      "grid_template_rows": null,
      "height": null,
      "justify_content": null,
      "justify_items": null,
      "left": null,
      "margin": null,
      "max_height": null,
      "max_width": null,
      "min_height": null,
      "min_width": null,
      "object_fit": null,
      "object_position": null,
      "order": null,
      "overflow": null,
      "overflow_x": null,
      "overflow_y": null,
      "padding": null,
      "right": null,
      "top": null,
      "visibility": null,
      "width": null
     }
    },
    "978050a172564e639a1d7de90291dd08": {
     "model_module": "@jupyter-widgets/base",
     "model_module_version": "1.2.0",
     "model_name": "LayoutModel",
     "state": {
      "_model_module": "@jupyter-widgets/base",
      "_model_module_version": "1.2.0",
      "_model_name": "LayoutModel",
      "_view_count": null,
      "_view_module": "@jupyter-widgets/base",
      "_view_module_version": "1.2.0",
      "_view_name": "LayoutView",
      "align_content": null,
      "align_items": null,
      "align_self": null,
      "border": null,
      "bottom": null,
      "display": null,
      "flex": null,
      "flex_flow": null,
      "grid_area": null,
      "grid_auto_columns": null,
      "grid_auto_flow": null,
      "grid_auto_rows": null,
      "grid_column": null,
      "grid_gap": null,
      "grid_row": null,
      "grid_template_areas": null,
      "grid_template_columns": null,
      "grid_template_rows": null,
      "height": null,
      "justify_content": null,
      "justify_items": null,
      "left": null,
      "margin": null,
      "max_height": null,
      "max_width": null,
      "min_height": null,
      "min_width": null,
      "object_fit": null,
      "object_position": null,
      "order": null,
      "overflow": null,
      "overflow_x": null,
      "overflow_y": null,
      "padding": null,
      "right": null,
      "top": null,
      "visibility": null,
      "width": null
     }
    },
    "9b56ae95768141bfa6860b55f05c2c21": {
     "model_module": "@jupyter-widgets/controls",
     "model_module_version": "1.5.0",
     "model_name": "DescriptionStyleModel",
     "state": {
      "_model_module": "@jupyter-widgets/controls",
      "_model_module_version": "1.5.0",
      "_model_name": "DescriptionStyleModel",
      "_view_count": null,
      "_view_module": "@jupyter-widgets/base",
      "_view_module_version": "1.2.0",
      "_view_name": "StyleView",
      "description_width": ""
     }
    },
    "9cc8639a588d4ff9aede04401309ac3f": {
     "model_module": "@jupyter-widgets/controls",
     "model_module_version": "1.5.0",
     "model_name": "HTMLModel",
     "state": {
      "_dom_classes": [],
      "_model_module": "@jupyter-widgets/controls",
      "_model_module_version": "1.5.0",
      "_model_name": "HTMLModel",
      "_view_count": null,
      "_view_module": "@jupyter-widgets/controls",
      "_view_module_version": "1.5.0",
      "_view_name": "HTMLView",
      "description": "",
      "description_tooltip": null,
      "layout": "IPY_MODEL_285d880450044c7e8e7019590b40c116",
      "placeholder": "​",
      "style": "IPY_MODEL_0324cde96e964b57a517d5fd5c173082",
      "value": "Downloading builder script: 100%"
     }
    },
    "a055821d8a3f48189a72336d01e26e06": {
     "model_module": "@jupyter-widgets/controls",
     "model_module_version": "1.5.0",
     "model_name": "DescriptionStyleModel",
     "state": {
      "_model_module": "@jupyter-widgets/controls",
      "_model_module_version": "1.5.0",
      "_model_name": "DescriptionStyleModel",
      "_view_count": null,
      "_view_module": "@jupyter-widgets/base",
      "_view_module_version": "1.2.0",
      "_view_name": "StyleView",
      "description_width": ""
     }
    },
    "a2d6b1816d244610b9ffc58ad06b9765": {
     "model_module": "@jupyter-widgets/controls",
     "model_module_version": "1.5.0",
     "model_name": "HTMLModel",
     "state": {
      "_dom_classes": [],
      "_model_module": "@jupyter-widgets/controls",
      "_model_module_version": "1.5.0",
      "_model_name": "HTMLModel",
      "_view_count": null,
      "_view_module": "@jupyter-widgets/controls",
      "_view_module_version": "1.5.0",
      "_view_name": "HTMLView",
      "description": "",
      "description_tooltip": null,
      "layout": "IPY_MODEL_a3c78fbd73354c8ab9fabe16fc55e152",
      "placeholder": "​",
      "style": "IPY_MODEL_bd83de774013415a8aef1ed1f295f68b",
      "value": "Downloading data: 100%"
     }
    },
    "a3c78fbd73354c8ab9fabe16fc55e152": {
     "model_module": "@jupyter-widgets/base",
     "model_module_version": "1.2.0",
     "model_name": "LayoutModel",
     "state": {
      "_model_module": "@jupyter-widgets/base",
      "_model_module_version": "1.2.0",
      "_model_name": "LayoutModel",
      "_view_count": null,
      "_view_module": "@jupyter-widgets/base",
      "_view_module_version": "1.2.0",
      "_view_name": "LayoutView",
      "align_content": null,
      "align_items": null,
      "align_self": null,
      "border": null,
      "bottom": null,
      "display": null,
      "flex": null,
      "flex_flow": null,
      "grid_area": null,
      "grid_auto_columns": null,
      "grid_auto_flow": null,
      "grid_auto_rows": null,
      "grid_column": null,
      "grid_gap": null,
      "grid_row": null,
      "grid_template_areas": null,
      "grid_template_columns": null,
      "grid_template_rows": null,
      "height": null,
      "justify_content": null,
      "justify_items": null,
      "left": null,
      "margin": null,
      "max_height": null,
      "max_width": null,
      "min_height": null,
      "min_width": null,
      "object_fit": null,
      "object_position": null,
      "order": null,
      "overflow": null,
      "overflow_x": null,
      "overflow_y": null,
      "padding": null,
      "right": null,
      "top": null,
      "visibility": null,
      "width": null
     }
    },
    "a9317b6f027f4a30adace53aca69a529": {
     "model_module": "@jupyter-widgets/controls",
     "model_module_version": "1.5.0",
     "model_name": "HBoxModel",
     "state": {
      "_dom_classes": [],
      "_model_module": "@jupyter-widgets/controls",
      "_model_module_version": "1.5.0",
      "_model_name": "HBoxModel",
      "_view_count": null,
      "_view_module": "@jupyter-widgets/controls",
      "_view_module_version": "1.5.0",
      "_view_name": "HBoxView",
      "box_style": "",
      "children": [
       "IPY_MODEL_9cc8639a588d4ff9aede04401309ac3f",
       "IPY_MODEL_a93fb1c6d61848d0af4254f4edebc5a9",
       "IPY_MODEL_3d224f3cf239432db974303de5507a8c"
      ],
      "layout": "IPY_MODEL_96f24145d47c4266b3fe49dc870a6706"
     }
    },
    "a93fb1c6d61848d0af4254f4edebc5a9": {
     "model_module": "@jupyter-widgets/controls",
     "model_module_version": "1.5.0",
     "model_name": "FloatProgressModel",
     "state": {
      "_dom_classes": [],
      "_model_module": "@jupyter-widgets/controls",
      "_model_module_version": "1.5.0",
      "_model_name": "FloatProgressModel",
      "_view_count": null,
      "_view_module": "@jupyter-widgets/controls",
      "_view_module_version": "1.5.0",
      "_view_name": "ProgressView",
      "bar_style": "success",
      "description": "",
      "description_tooltip": null,
      "layout": "IPY_MODEL_b549aa2913ef40ecb5190c4ac82f3e49",
      "max": 6081,
      "min": 0,
      "orientation": "horizontal",
      "style": "IPY_MODEL_cbb42892e9a34325aaaa11d3d8e14fd8",
      "value": 6081
     }
    },
    "b0ff43768ee84012b6f51cd0f9a66aa7": {
     "model_module": "@jupyter-widgets/controls",
     "model_module_version": "1.5.0",
     "model_name": "DescriptionStyleModel",
     "state": {
      "_model_module": "@jupyter-widgets/controls",
      "_model_module_version": "1.5.0",
      "_model_name": "DescriptionStyleModel",
      "_view_count": null,
      "_view_module": "@jupyter-widgets/base",
      "_view_module_version": "1.2.0",
      "_view_name": "StyleView",
      "description_width": ""
     }
    },
    "b40cffd901fe48b28437283629f1621d": {
     "model_module": "@jupyter-widgets/controls",
     "model_module_version": "1.5.0",
     "model_name": "HTMLModel",
     "state": {
      "_dom_classes": [],
      "_model_module": "@jupyter-widgets/controls",
      "_model_module_version": "1.5.0",
      "_model_name": "HTMLModel",
      "_view_count": null,
      "_view_module": "@jupyter-widgets/controls",
      "_view_module_version": "1.5.0",
      "_view_name": "HTMLView",
      "description": "",
      "description_tooltip": null,
      "layout": "IPY_MODEL_bc13f7b2f9b64fbb9094ddc0d6f802b7",
      "placeholder": "​",
      "style": "IPY_MODEL_48cc35adc7c64dd8aed5079810ef8ae5",
      "value": " 127085/127085 [00:04&lt;00:00, 26894.45 examples/s]"
     }
    },
    "b44d6c17e50c4b16905e5591cd8bf03b": {
     "model_module": "@jupyter-widgets/base",
     "model_module_version": "1.2.0",
     "model_name": "LayoutModel",
     "state": {
      "_model_module": "@jupyter-widgets/base",
      "_model_module_version": "1.2.0",
      "_model_name": "LayoutModel",
      "_view_count": null,
      "_view_module": "@jupyter-widgets/base",
      "_view_module_version": "1.2.0",
      "_view_name": "LayoutView",
      "align_content": null,
      "align_items": null,
      "align_self": null,
      "border": null,
      "bottom": null,
      "display": null,
      "flex": null,
      "flex_flow": null,
      "grid_area": null,
      "grid_auto_columns": null,
      "grid_auto_flow": null,
      "grid_auto_rows": null,
      "grid_column": null,
      "grid_gap": null,
      "grid_row": null,
      "grid_template_areas": null,
      "grid_template_columns": null,
      "grid_template_rows": null,
      "height": null,
      "justify_content": null,
      "justify_items": null,
      "left": null,
      "margin": null,
      "max_height": null,
      "max_width": null,
      "min_height": null,
      "min_width": null,
      "object_fit": null,
      "object_position": null,
      "order": null,
      "overflow": null,
      "overflow_x": null,
      "overflow_y": null,
      "padding": null,
      "right": null,
      "top": null,
      "visibility": null,
      "width": null
     }
    },
    "b549aa2913ef40ecb5190c4ac82f3e49": {
     "model_module": "@jupyter-widgets/base",
     "model_module_version": "1.2.0",
     "model_name": "LayoutModel",
     "state": {
      "_model_module": "@jupyter-widgets/base",
      "_model_module_version": "1.2.0",
      "_model_name": "LayoutModel",
      "_view_count": null,
      "_view_module": "@jupyter-widgets/base",
      "_view_module_version": "1.2.0",
      "_view_name": "LayoutView",
      "align_content": null,
      "align_items": null,
      "align_self": null,
      "border": null,
      "bottom": null,
      "display": null,
      "flex": null,
      "flex_flow": null,
      "grid_area": null,
      "grid_auto_columns": null,
      "grid_auto_flow": null,
      "grid_auto_rows": null,
      "grid_column": null,
      "grid_gap": null,
      "grid_row": null,
      "grid_template_areas": null,
      "grid_template_columns": null,
      "grid_template_rows": null,
      "height": null,
      "justify_content": null,
      "justify_items": null,
      "left": null,
      "margin": null,
      "max_height": null,
      "max_width": null,
      "min_height": null,
      "min_width": null,
      "object_fit": null,
      "object_position": null,
      "order": null,
      "overflow": null,
      "overflow_x": null,
      "overflow_y": null,
      "padding": null,
      "right": null,
      "top": null,
      "visibility": null,
      "width": null
     }
    },
    "b59488ee1b4e4bf29d02fb3c56acc4f2": {
     "model_module": "@jupyter-widgets/base",
     "model_module_version": "1.2.0",
     "model_name": "LayoutModel",
     "state": {
      "_model_module": "@jupyter-widgets/base",
      "_model_module_version": "1.2.0",
      "_model_name": "LayoutModel",
      "_view_count": null,
      "_view_module": "@jupyter-widgets/base",
      "_view_module_version": "1.2.0",
      "_view_name": "LayoutView",
      "align_content": null,
      "align_items": null,
      "align_self": null,
      "border": null,
      "bottom": null,
      "display": null,
      "flex": null,
      "flex_flow": null,
      "grid_area": null,
      "grid_auto_columns": null,
      "grid_auto_flow": null,
      "grid_auto_rows": null,
      "grid_column": null,
      "grid_gap": null,
      "grid_row": null,
      "grid_template_areas": null,
      "grid_template_columns": null,
      "grid_template_rows": null,
      "height": null,
      "justify_content": null,
      "justify_items": null,
      "left": null,
      "margin": null,
      "max_height": null,
      "max_width": null,
      "min_height": null,
      "min_width": null,
      "object_fit": null,
      "object_position": null,
      "order": null,
      "overflow": null,
      "overflow_x": null,
      "overflow_y": null,
      "padding": null,
      "right": null,
      "top": null,
      "visibility": null,
      "width": null
     }
    },
    "b98c5642ac6d4be29400ee8a0295ced2": {
     "model_module": "@jupyter-widgets/controls",
     "model_module_version": "1.5.0",
     "model_name": "DescriptionStyleModel",
     "state": {
      "_model_module": "@jupyter-widgets/controls",
      "_model_module_version": "1.5.0",
      "_model_name": "DescriptionStyleModel",
      "_view_count": null,
      "_view_module": "@jupyter-widgets/base",
      "_view_module_version": "1.2.0",
      "_view_name": "StyleView",
      "description_width": ""
     }
    },
    "ba856cdc670840cb82828db40b48161c": {
     "model_module": "@jupyter-widgets/controls",
     "model_module_version": "1.5.0",
     "model_name": "DescriptionStyleModel",
     "state": {
      "_model_module": "@jupyter-widgets/controls",
      "_model_module_version": "1.5.0",
      "_model_name": "DescriptionStyleModel",
      "_view_count": null,
      "_view_module": "@jupyter-widgets/base",
      "_view_module_version": "1.2.0",
      "_view_name": "StyleView",
      "description_width": ""
     }
    },
    "bc13f7b2f9b64fbb9094ddc0d6f802b7": {
     "model_module": "@jupyter-widgets/base",
     "model_module_version": "1.2.0",
     "model_name": "LayoutModel",
     "state": {
      "_model_module": "@jupyter-widgets/base",
      "_model_module_version": "1.2.0",
      "_model_name": "LayoutModel",
      "_view_count": null,
      "_view_module": "@jupyter-widgets/base",
      "_view_module_version": "1.2.0",
      "_view_name": "LayoutView",
      "align_content": null,
      "align_items": null,
      "align_self": null,
      "border": null,
      "bottom": null,
      "display": null,
      "flex": null,
      "flex_flow": null,
      "grid_area": null,
      "grid_auto_columns": null,
      "grid_auto_flow": null,
      "grid_auto_rows": null,
      "grid_column": null,
      "grid_gap": null,
      "grid_row": null,
      "grid_template_areas": null,
      "grid_template_columns": null,
      "grid_template_rows": null,
      "height": null,
      "justify_content": null,
      "justify_items": null,
      "left": null,
      "margin": null,
      "max_height": null,
      "max_width": null,
      "min_height": null,
      "min_width": null,
      "object_fit": null,
      "object_position": null,
      "order": null,
      "overflow": null,
      "overflow_x": null,
      "overflow_y": null,
      "padding": null,
      "right": null,
      "top": null,
      "visibility": null,
      "width": null
     }
    },
    "bd83de774013415a8aef1ed1f295f68b": {
     "model_module": "@jupyter-widgets/controls",
     "model_module_version": "1.5.0",
     "model_name": "DescriptionStyleModel",
     "state": {
      "_model_module": "@jupyter-widgets/controls",
      "_model_module_version": "1.5.0",
      "_model_name": "DescriptionStyleModel",
      "_view_count": null,
      "_view_module": "@jupyter-widgets/base",
      "_view_module_version": "1.2.0",
      "_view_name": "StyleView",
      "description_width": ""
     }
    },
    "bd92f69e5dcf4fbc82e624d3824d9160": {
     "model_module": "@jupyter-widgets/controls",
     "model_module_version": "1.5.0",
     "model_name": "HTMLModel",
     "state": {
      "_dom_classes": [],
      "_model_module": "@jupyter-widgets/controls",
      "_model_module_version": "1.5.0",
      "_model_name": "HTMLModel",
      "_view_count": null,
      "_view_module": "@jupyter-widgets/controls",
      "_view_module_version": "1.5.0",
      "_view_name": "HTMLView",
      "description": "",
      "description_tooltip": null,
      "layout": "IPY_MODEL_6dc8fdb406154c919a08eaeb137aa2ea",
      "placeholder": "​",
      "style": "IPY_MODEL_eedee6016ea34754a9e09579502a9e6a",
      "value": " 20.5k/20.5k [00:00&lt;00:00, 1.63MB/s]"
     }
    },
    "c2db8ca2d4c04a9fb9c9edce24a1aa50": {
     "model_module": "@jupyter-widgets/controls",
     "model_module_version": "1.5.0",
     "model_name": "DescriptionStyleModel",
     "state": {
      "_model_module": "@jupyter-widgets/controls",
      "_model_module_version": "1.5.0",
      "_model_name": "DescriptionStyleModel",
      "_view_count": null,
      "_view_module": "@jupyter-widgets/base",
      "_view_module_version": "1.2.0",
      "_view_name": "StyleView",
      "description_width": ""
     }
    },
    "cb3eaf7c42454472b82fb3c881a071ab": {
     "model_module": "@jupyter-widgets/base",
     "model_module_version": "1.2.0",
     "model_name": "LayoutModel",
     "state": {
      "_model_module": "@jupyter-widgets/base",
      "_model_module_version": "1.2.0",
      "_model_name": "LayoutModel",
      "_view_count": null,
      "_view_module": "@jupyter-widgets/base",
      "_view_module_version": "1.2.0",
      "_view_name": "LayoutView",
      "align_content": null,
      "align_items": null,
      "align_self": null,
      "border": null,
      "bottom": null,
      "display": null,
      "flex": null,
      "flex_flow": null,
      "grid_area": null,
      "grid_auto_columns": null,
      "grid_auto_flow": null,
      "grid_auto_rows": null,
      "grid_column": null,
      "grid_gap": null,
      "grid_row": null,
      "grid_template_areas": null,
      "grid_template_columns": null,
      "grid_template_rows": null,
      "height": null,
      "justify_content": null,
      "justify_items": null,
      "left": null,
      "margin": null,
      "max_height": null,
      "max_width": null,
      "min_height": null,
      "min_width": null,
      "object_fit": null,
      "object_position": null,
      "order": null,
      "overflow": null,
      "overflow_x": null,
      "overflow_y": null,
      "padding": null,
      "right": null,
      "top": null,
      "visibility": null,
      "width": null
     }
    },
    "cbb42892e9a34325aaaa11d3d8e14fd8": {
     "model_module": "@jupyter-widgets/controls",
     "model_module_version": "1.5.0",
     "model_name": "ProgressStyleModel",
     "state": {
      "_model_module": "@jupyter-widgets/controls",
      "_model_module_version": "1.5.0",
      "_model_name": "ProgressStyleModel",
      "_view_count": null,
      "_view_module": "@jupyter-widgets/base",
      "_view_module_version": "1.2.0",
      "_view_name": "StyleView",
      "bar_color": null,
      "description_width": ""
     }
    },
    "d03f1b06c6b141378b824bd4fa6aec42": {
     "model_module": "@jupyter-widgets/controls",
     "model_module_version": "1.5.0",
     "model_name": "ProgressStyleModel",
     "state": {
      "_model_module": "@jupyter-widgets/controls",
      "_model_module_version": "1.5.0",
      "_model_name": "ProgressStyleModel",
      "_view_count": null,
      "_view_module": "@jupyter-widgets/base",
      "_view_module_version": "1.2.0",
      "_view_name": "StyleView",
      "bar_color": null,
      "description_width": ""
     }
    },
    "d8b0dc1bc1ed4d91a7d8ad409f639082": {
     "model_module": "@jupyter-widgets/base",
     "model_module_version": "1.2.0",
     "model_name": "LayoutModel",
     "state": {
      "_model_module": "@jupyter-widgets/base",
      "_model_module_version": "1.2.0",
      "_model_name": "LayoutModel",
      "_view_count": null,
      "_view_module": "@jupyter-widgets/base",
      "_view_module_version": "1.2.0",
      "_view_name": "LayoutView",
      "align_content": null,
      "align_items": null,
      "align_self": null,
      "border": null,
      "bottom": null,
      "display": null,
      "flex": null,
      "flex_flow": null,
      "grid_area": null,
      "grid_auto_columns": null,
      "grid_auto_flow": null,
      "grid_auto_rows": null,
      "grid_column": null,
      "grid_gap": null,
      "grid_row": null,
      "grid_template_areas": null,
      "grid_template_columns": null,
      "grid_template_rows": null,
      "height": null,
      "justify_content": null,
      "justify_items": null,
      "left": null,
      "margin": null,
      "max_height": null,
      "max_width": null,
      "min_height": null,
      "min_width": null,
      "object_fit": null,
      "object_position": null,
      "order": null,
      "overflow": null,
      "overflow_x": null,
      "overflow_y": null,
      "padding": null,
      "right": null,
      "top": null,
      "visibility": null,
      "width": null
     }
    },
    "dea534679da54266ba6daa90c24e2f8b": {
     "model_module": "@jupyter-widgets/base",
     "model_module_version": "1.2.0",
     "model_name": "LayoutModel",
     "state": {
      "_model_module": "@jupyter-widgets/base",
      "_model_module_version": "1.2.0",
      "_model_name": "LayoutModel",
      "_view_count": null,
      "_view_module": "@jupyter-widgets/base",
      "_view_module_version": "1.2.0",
      "_view_name": "LayoutView",
      "align_content": null,
      "align_items": null,
      "align_self": null,
      "border": null,
      "bottom": null,
      "display": null,
      "flex": null,
      "flex_flow": null,
      "grid_area": null,
      "grid_auto_columns": null,
      "grid_auto_flow": null,
      "grid_auto_rows": null,
      "grid_column": null,
      "grid_gap": null,
      "grid_row": null,
      "grid_template_areas": null,
      "grid_template_columns": null,
      "grid_template_rows": null,
      "height": null,
      "justify_content": null,
      "justify_items": null,
      "left": null,
      "margin": null,
      "max_height": null,
      "max_width": null,
      "min_height": null,
      "min_width": null,
      "object_fit": null,
      "object_position": null,
      "order": null,
      "overflow": null,
      "overflow_x": null,
      "overflow_y": null,
      "padding": null,
      "right": null,
      "top": null,
      "visibility": null,
      "width": null
     }
    },
    "e930169a43c04578b217349ff0d622a4": {
     "model_module": "@jupyter-widgets/base",
     "model_module_version": "1.2.0",
     "model_name": "LayoutModel",
     "state": {
      "_model_module": "@jupyter-widgets/base",
      "_model_module_version": "1.2.0",
      "_model_name": "LayoutModel",
      "_view_count": null,
      "_view_module": "@jupyter-widgets/base",
      "_view_module_version": "1.2.0",
      "_view_name": "LayoutView",
      "align_content": null,
      "align_items": null,
      "align_self": null,
      "border": null,
      "bottom": null,
      "display": null,
      "flex": null,
      "flex_flow": null,
      "grid_area": null,
      "grid_auto_columns": null,
      "grid_auto_flow": null,
      "grid_auto_rows": null,
      "grid_column": null,
      "grid_gap": null,
      "grid_row": null,
      "grid_template_areas": null,
      "grid_template_columns": null,
      "grid_template_rows": null,
      "height": null,
      "justify_content": null,
      "justify_items": null,
      "left": null,
      "margin": null,
      "max_height": null,
      "max_width": null,
      "min_height": null,
      "min_width": null,
      "object_fit": null,
      "object_position": null,
      "order": null,
      "overflow": null,
      "overflow_x": null,
      "overflow_y": null,
      "padding": null,
      "right": null,
      "top": null,
      "visibility": null,
      "width": null
     }
    },
    "eedee6016ea34754a9e09579502a9e6a": {
     "model_module": "@jupyter-widgets/controls",
     "model_module_version": "1.5.0",
     "model_name": "DescriptionStyleModel",
     "state": {
      "_model_module": "@jupyter-widgets/controls",
      "_model_module_version": "1.5.0",
      "_model_name": "DescriptionStyleModel",
      "_view_count": null,
      "_view_module": "@jupyter-widgets/base",
      "_view_module_version": "1.2.0",
      "_view_name": "StyleView",
      "description_width": ""
     }
    },
    "f0dd5e2d358546b0bd5337a4b5e0e651": {
     "model_module": "@jupyter-widgets/base",
     "model_module_version": "1.2.0",
     "model_name": "LayoutModel",
     "state": {
      "_model_module": "@jupyter-widgets/base",
      "_model_module_version": "1.2.0",
      "_model_name": "LayoutModel",
      "_view_count": null,
      "_view_module": "@jupyter-widgets/base",
      "_view_module_version": "1.2.0",
      "_view_name": "LayoutView",
      "align_content": null,
      "align_items": null,
      "align_self": null,
      "border": null,
      "bottom": null,
      "display": null,
      "flex": null,
      "flex_flow": null,
      "grid_area": null,
      "grid_auto_columns": null,
      "grid_auto_flow": null,
      "grid_auto_rows": null,
      "grid_column": null,
      "grid_gap": null,
      "grid_row": null,
      "grid_template_areas": null,
      "grid_template_columns": null,
      "grid_template_rows": null,
      "height": null,
      "justify_content": null,
      "justify_items": null,
      "left": null,
      "margin": null,
      "max_height": null,
      "max_width": null,
      "min_height": null,
      "min_width": null,
      "object_fit": null,
      "object_position": null,
      "order": null,
      "overflow": null,
      "overflow_x": null,
      "overflow_y": null,
      "padding": null,
      "right": null,
      "top": null,
      "visibility": null,
      "width": null
     }
    },
    "f90fb33f463c4f25be3e30f78638c96c": {
     "model_module": "@jupyter-widgets/base",
     "model_module_version": "1.2.0",
     "model_name": "LayoutModel",
     "state": {
      "_model_module": "@jupyter-widgets/base",
      "_model_module_version": "1.2.0",
      "_model_name": "LayoutModel",
      "_view_count": null,
      "_view_module": "@jupyter-widgets/base",
      "_view_module_version": "1.2.0",
      "_view_name": "LayoutView",
      "align_content": null,
      "align_items": null,
      "align_self": null,
      "border": null,
      "bottom": null,
      "display": null,
      "flex": null,
      "flex_flow": null,
      "grid_area": null,
      "grid_auto_columns": null,
      "grid_auto_flow": null,
      "grid_auto_rows": null,
      "grid_column": null,
      "grid_gap": null,
      "grid_row": null,
      "grid_template_areas": null,
      "grid_template_columns": null,
      "grid_template_rows": null,
      "height": null,
      "justify_content": null,
      "justify_items": null,
      "left": null,
      "margin": null,
      "max_height": null,
      "max_width": null,
      "min_height": null,
      "min_width": null,
      "object_fit": null,
      "object_position": null,
      "order": null,
      "overflow": null,
      "overflow_x": null,
      "overflow_y": null,
      "padding": null,
      "right": null,
      "top": null,
      "visibility": null,
      "width": null
     }
    }
   }
  }
 },
 "nbformat": 4,
 "nbformat_minor": 1
}
