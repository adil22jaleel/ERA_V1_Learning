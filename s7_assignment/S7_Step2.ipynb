{
 "cells": [
  {
   "cell_type": "markdown",
   "metadata": {
    "id": "7kkOftzQppPA"
   },
   "source": [
    "\n",
    "### Target:\n",
    "1. Introduce batch normalisation for performance improvement\n",
    "2. Avoid any overfitting issues\n",
    "3. Reduce the number of parameters \n",
    "\n",
    "### Results:\n",
    "Parameters:7,216  \n",
    "Best Train Accuracy: 99.03 % (15th Epoch)   \n",
    "Best Test Accuracy: 99.28% (15th Epoch)   \n",
    "\n",
    "### Analysis:\n",
    "1. In the code 2 of this step, we are reducing the number of input and output channels to reduce the number of parameters and adding batch normalisation. The batch normalisation improves the performance of model training under each epoch\n",
    "2. The code 2 model had overfitting issues still, with the difference between the training and testing accuracy being similar\n",
    "3. To trim the overfitting issues, we introduced dropout with a dropout rate of 0.05 (This is added in the model.py) (code 3)\n",
    "4. Now to reduce the number of parameters under 8k, 1x1 convolutions (code 4) were introduced along with additional convolution layer. The main purpose of a 1x1 convolution is to transform the channel dimension of the input feature maps. By altering the number of channels, it can change the dimensionality of the feature space.Now the number of parameters have reduced under 8k.\n",
    "5. The training accuracy slowly in the last epoch crosses the 99% accuracy but test accuracy is not still hitting above 99.3%\n",
    "6. Now we have attained all the possible approaches with the model building, now we can look to improve the accuracy by image augmentation and learning rate changes."
   ]
  },
  {
   "cell_type": "code",
   "execution_count": 2,
   "metadata": {
    "id": "8kH16rnZ7wt_"
   },
   "outputs": [],
   "source": [
    "#!pip install torchsummary\n",
    "from __future__ import print_function\n",
    "import torch\n",
    "import torch.nn as nn\n",
    "import torch.nn.functional as F\n",
    "import torch.optim as optim\n",
    "from torchvision import transforms\n",
    "from utils import data_loader,data_statistics,modelsummary,train_model,test_model\n",
    "from model import *"
   ]
  },
  {
   "cell_type": "code",
   "execution_count": 3,
   "metadata": {
    "colab": {
     "base_uri": "https://localhost:8080/"
    },
    "id": "V3NaikzapUWr",
    "outputId": "7cf79c23-b770-4b31-aaad-49a25b9c66dd"
   },
   "outputs": [
    {
     "name": "stdout",
     "output_type": "stream",
     "text": [
      "CUDA Available? True\n"
     ]
    }
   ],
   "source": [
    "# CUDA?\n",
    "cuda = torch.cuda.is_available()\n",
    "print(\"CUDA Available?\", cuda)\n",
    "device = torch.device(\"cuda\" if cuda else \"cpu\")"
   ]
  },
  {
   "cell_type": "code",
   "execution_count": 4,
   "metadata": {
    "id": "YtssFUKb-jqx"
   },
   "outputs": [],
   "source": [
    "# Train Phase transformations\n",
    "train_transforms = transforms.Compose([\n",
    "                                       transforms.ToTensor(),\n",
    "                                       transforms.Normalize((0.1307,), (0.3081,)) # The mean and std have to be sequences (e.g., tuples), therefore you should add a comma after the values.\n",
    "                                       ])\n",
    "\n",
    "# Test Phase transformations\n",
    "test_transforms = transforms.Compose([\n",
    "                                       transforms.ToTensor(),\n",
    "                                       transforms.Normalize((0.1307,), (0.3081,))\n",
    "                                       ])\n"
   ]
  },
  {
   "cell_type": "code",
   "execution_count": 5,
   "metadata": {
    "colab": {
     "base_uri": "https://localhost:8080/"
    },
    "id": "ucu8TRMGmoBE",
    "outputId": "18feb932-c0bd-4678-c582-ef29ea7d6d9b"
   },
   "outputs": [
    {
     "name": "stdout",
     "output_type": "stream",
     "text": [
      "Downloading http://yann.lecun.com/exdb/mnist/train-images-idx3-ubyte.gz\n",
      "Downloading http://yann.lecun.com/exdb/mnist/train-images-idx3-ubyte.gz to ./data/MNIST/raw/train-images-idx3-ubyte.gz\n"
     ]
    },
    {
     "name": "stderr",
     "output_type": "stream",
     "text": [
      "100%|██████████| 9912422/9912422 [00:00<00:00, 226405302.09it/s]"
     ]
    },
    {
     "name": "stdout",
     "output_type": "stream",
     "text": [
      "Extracting ./data/MNIST/raw/train-images-idx3-ubyte.gz to ./data/MNIST/raw\n"
     ]
    },
    {
     "name": "stderr",
     "output_type": "stream",
     "text": [
      "\n"
     ]
    },
    {
     "name": "stdout",
     "output_type": "stream",
     "text": [
      "\n",
      "Downloading http://yann.lecun.com/exdb/mnist/train-labels-idx1-ubyte.gz\n",
      "Downloading http://yann.lecun.com/exdb/mnist/train-labels-idx1-ubyte.gz to ./data/MNIST/raw/train-labels-idx1-ubyte.gz\n"
     ]
    },
    {
     "name": "stderr",
     "output_type": "stream",
     "text": [
      "100%|██████████| 28881/28881 [00:00<00:00, 110626204.41it/s]\n"
     ]
    },
    {
     "name": "stdout",
     "output_type": "stream",
     "text": [
      "Extracting ./data/MNIST/raw/train-labels-idx1-ubyte.gz to ./data/MNIST/raw\n",
      "\n",
      "Downloading http://yann.lecun.com/exdb/mnist/t10k-images-idx3-ubyte.gz\n",
      "Downloading http://yann.lecun.com/exdb/mnist/t10k-images-idx3-ubyte.gz to ./data/MNIST/raw/t10k-images-idx3-ubyte.gz\n"
     ]
    },
    {
     "name": "stderr",
     "output_type": "stream",
     "text": [
      "100%|██████████| 1648877/1648877 [00:00<00:00, 125844155.26it/s]\n"
     ]
    },
    {
     "name": "stdout",
     "output_type": "stream",
     "text": [
      "Extracting ./data/MNIST/raw/t10k-images-idx3-ubyte.gz to ./data/MNIST/raw\n",
      "\n",
      "Downloading http://yann.lecun.com/exdb/mnist/t10k-labels-idx1-ubyte.gz\n",
      "Downloading http://yann.lecun.com/exdb/mnist/t10k-labels-idx1-ubyte.gz to ./data/MNIST/raw/t10k-labels-idx1-ubyte.gz\n"
     ]
    },
    {
     "name": "stderr",
     "output_type": "stream",
     "text": [
      "100%|██████████| 4542/4542 [00:00<00:00, 24114593.38it/s]\n"
     ]
    },
    {
     "name": "stdout",
     "output_type": "stream",
     "text": [
      "Extracting ./data/MNIST/raw/t10k-labels-idx1-ubyte.gz to ./data/MNIST/raw\n",
      "\n",
      "CUDA Available? True\n"
     ]
    },
    {
     "name": "stderr",
     "output_type": "stream",
     "text": [
      "/usr/local/lib/python3.10/dist-packages/torch/utils/data/dataloader.py:560: UserWarning: This DataLoader will create 4 worker processes in total. Our suggested max number of worker in current system is 2, which is smaller than what this DataLoader is going to create. Please be aware that excessive worker creation might get DataLoader running slow or even freeze, lower the worker number to avoid potential slowness/freeze if necessary.\n",
      "  warnings.warn(_create_warning_msg(\n"
     ]
    }
   ],
   "source": [
    "batch_size=128\n",
    "train_loader,train,test_loader,test= data_loader(train_transforms,test_transforms,batch_size)"
   ]
  },
  {
   "cell_type": "markdown",
   "metadata": {
    "id": "ubQL3H6RJL3h"
   },
   "source": [
    "#### Code 2- Model 2 - Adding Batch Normalisation"
   ]
  },
  {
   "cell_type": "code",
   "execution_count": 6,
   "metadata": {
    "colab": {
     "base_uri": "https://localhost:8080/"
    },
    "id": "fbkF2nN_LYIb",
    "outputId": "50d88ba3-d728-45c4-e97b-c55a892870c8"
   },
   "outputs": [
    {
     "name": "stdout",
     "output_type": "stream",
     "text": [
      "----------------------------------------------------------------\n",
      "        Layer (type)               Output Shape         Param #\n",
      "================================================================\n",
      "            Conv2d-1            [-1, 4, 28, 28]              40\n",
      "              ReLU-2            [-1, 4, 28, 28]               0\n",
      "       BatchNorm2d-3            [-1, 4, 28, 28]               8\n",
      "            Conv2d-4            [-1, 8, 28, 28]             296\n",
      "              ReLU-5            [-1, 8, 28, 28]               0\n",
      "       BatchNorm2d-6            [-1, 8, 28, 28]              16\n",
      "            Conv2d-7           [-1, 12, 28, 28]             876\n",
      "              ReLU-8           [-1, 12, 28, 28]               0\n",
      "       BatchNorm2d-9           [-1, 12, 28, 28]              24\n",
      "           Conv2d-10           [-1, 16, 28, 28]           1,744\n",
      "             ReLU-11           [-1, 16, 28, 28]               0\n",
      "      BatchNorm2d-12           [-1, 16, 28, 28]              32\n",
      "        MaxPool2d-13           [-1, 16, 14, 14]               0\n",
      "           Conv2d-14           [-1, 32, 14, 14]           4,640\n",
      "             ReLU-15           [-1, 32, 14, 14]               0\n",
      "      BatchNorm2d-16           [-1, 32, 14, 14]              64\n",
      "           Conv2d-17           [-1, 32, 14, 14]           9,248\n",
      "             ReLU-18           [-1, 32, 14, 14]               0\n",
      "      BatchNorm2d-19           [-1, 32, 14, 14]              64\n",
      "        MaxPool2d-20             [-1, 32, 7, 7]               0\n",
      "           Conv2d-21             [-1, 10, 5, 5]           2,890\n",
      "        AvgPool2d-22             [-1, 10, 1, 1]               0\n",
      "================================================================\n",
      "Total params: 19,942\n",
      "Trainable params: 19,942\n",
      "Non-trainable params: 0\n",
      "----------------------------------------------------------------\n",
      "Input size (MB): 0.00\n",
      "Forward/backward pass size (MB): 1.04\n",
      "Params size (MB): 0.08\n",
      "Estimated Total Size (MB): 1.12\n",
      "----------------------------------------------------------------\n"
     ]
    }
   ],
   "source": [
    "model =  Model_2().to(device)\n",
    "modelsummary(model)"
   ]
  },
  {
   "cell_type": "code",
   "execution_count": 7,
   "metadata": {
    "colab": {
     "base_uri": "https://localhost:8080/"
    },
    "id": "xMCFxeAKOB53",
    "outputId": "302f9852-618c-41f2-e9c8-f728820fc17b"
   },
   "outputs": [
    {
     "metadata": {
      "tags": null
     },
     "name": "stdout",
     "output_type": "stream",
     "text": [
      "EPOCH: 1\n"
     ]
    },
    {
     "metadata": {
      "tags": null
     },
     "name": "stderr",
     "output_type": "stream",
     "text": [
      "Loss=0.05841495096683502 Batch_id=468 Accuracy=92.86: 100%|██████████| 469/469 [00:17<00:00, 27.01it/s]\n"
     ]
    },
    {
     "metadata": {
      "tags": null
     },
     "name": "stdout",
     "output_type": "stream",
     "text": [
      "\n",
      "Test set: Average loss: 0.0655, Accuracy: 9812/10000 (98.12%)\n",
      "\n",
      "EPOCH: 2\n"
     ]
    },
    {
     "metadata": {
      "tags": null
     },
     "name": "stderr",
     "output_type": "stream",
     "text": [
      "Loss=0.05855032801628113 Batch_id=468 Accuracy=98.39: 100%|██████████| 469/469 [00:18<00:00, 26.04it/s]\n"
     ]
    },
    {
     "metadata": {
      "tags": null
     },
     "name": "stdout",
     "output_type": "stream",
     "text": [
      "\n",
      "Test set: Average loss: 0.0623, Accuracy: 9796/10000 (97.96%)\n",
      "\n",
      "EPOCH: 3\n"
     ]
    },
    {
     "metadata": {
      "tags": null
     },
     "name": "stderr",
     "output_type": "stream",
     "text": [
      "Loss=0.06311937421560287 Batch_id=468 Accuracy=98.81: 100%|██████████| 469/469 [00:17<00:00, 26.85it/s]\n"
     ]
    },
    {
     "metadata": {
      "tags": null
     },
     "name": "stdout",
     "output_type": "stream",
     "text": [
      "\n",
      "Test set: Average loss: 0.0441, Accuracy: 9864/10000 (98.64%)\n",
      "\n",
      "EPOCH: 4\n"
     ]
    },
    {
     "metadata": {
      "tags": null
     },
     "name": "stderr",
     "output_type": "stream",
     "text": [
      "Loss=0.010189794935286045 Batch_id=468 Accuracy=99.04: 100%|██████████| 469/469 [00:18<00:00, 25.91it/s]\n"
     ]
    },
    {
     "metadata": {
      "tags": null
     },
     "name": "stdout",
     "output_type": "stream",
     "text": [
      "\n",
      "Test set: Average loss: 0.0399, Accuracy: 9876/10000 (98.76%)\n",
      "\n",
      "EPOCH: 5\n"
     ]
    },
    {
     "metadata": {
      "tags": null
     },
     "name": "stderr",
     "output_type": "stream",
     "text": [
      "Loss=0.0072691370733082294 Batch_id=468 Accuracy=99.23: 100%|██████████| 469/469 [00:16<00:00, 27.64it/s]\n"
     ]
    },
    {
     "metadata": {
      "tags": null
     },
     "name": "stdout",
     "output_type": "stream",
     "text": [
      "\n",
      "Test set: Average loss: 0.0353, Accuracy: 9880/10000 (98.80%)\n",
      "\n",
      "EPOCH: 6\n"
     ]
    },
    {
     "metadata": {
      "tags": null
     },
     "name": "stderr",
     "output_type": "stream",
     "text": [
      "Loss=0.006372187286615372 Batch_id=468 Accuracy=99.31: 100%|██████████| 469/469 [00:18<00:00, 25.48it/s]\n"
     ]
    },
    {
     "metadata": {
      "tags": null
     },
     "name": "stdout",
     "output_type": "stream",
     "text": [
      "\n",
      "Test set: Average loss: 0.0315, Accuracy: 9889/10000 (98.89%)\n",
      "\n",
      "EPOCH: 7\n"
     ]
    },
    {
     "metadata": {
      "tags": null
     },
     "name": "stderr",
     "output_type": "stream",
     "text": [
      "Loss=0.0034480856265872717 Batch_id=468 Accuracy=99.42: 100%|██████████| 469/469 [00:17<00:00, 27.54it/s]\n"
     ]
    },
    {
     "metadata": {
      "tags": null
     },
     "name": "stdout",
     "output_type": "stream",
     "text": [
      "\n",
      "Test set: Average loss: 0.0303, Accuracy: 9905/10000 (99.05%)\n",
      "\n",
      "EPOCH: 8\n"
     ]
    },
    {
     "metadata": {
      "tags": null
     },
     "name": "stderr",
     "output_type": "stream",
     "text": [
      "Loss=0.04119519144296646 Batch_id=468 Accuracy=99.53: 100%|██████████| 469/469 [00:17<00:00, 26.33it/s]\n"
     ]
    },
    {
     "metadata": {
      "tags": null
     },
     "name": "stdout",
     "output_type": "stream",
     "text": [
      "\n",
      "Test set: Average loss: 0.0321, Accuracy: 9887/10000 (98.87%)\n",
      "\n",
      "EPOCH: 9\n"
     ]
    },
    {
     "name": "stderr",
     "output_type": "stream",
     "text": [
      "Loss=0.01908346451818943 Batch_id=468 Accuracy=99.55: 100%|██████████| 469/469 [00:16<00:00, 27.70it/s]\n"
     ]
    },
    {
     "name": "stdout",
     "output_type": "stream",
     "text": [
      "\n",
      "Test set: Average loss: 0.0321, Accuracy: 9899/10000 (98.99%)\n",
      "\n",
      "EPOCH: 10\n"
     ]
    },
    {
     "name": "stderr",
     "output_type": "stream",
     "text": [
      "Loss=0.02090498059988022 Batch_id=468 Accuracy=99.63: 100%|██████████| 469/469 [00:18<00:00, 26.04it/s]\n"
     ]
    },
    {
     "name": "stdout",
     "output_type": "stream",
     "text": [
      "\n",
      "Test set: Average loss: 0.0306, Accuracy: 9902/10000 (99.02%)\n",
      "\n",
      "EPOCH: 11\n"
     ]
    },
    {
     "name": "stderr",
     "output_type": "stream",
     "text": [
      "Loss=0.0063971406780183315 Batch_id=468 Accuracy=99.70: 100%|██████████| 469/469 [00:17<00:00, 26.10it/s]\n"
     ]
    },
    {
     "name": "stdout",
     "output_type": "stream",
     "text": [
      "\n",
      "Test set: Average loss: 0.0286, Accuracy: 9919/10000 (99.19%)\n",
      "\n",
      "EPOCH: 12\n"
     ]
    },
    {
     "name": "stderr",
     "output_type": "stream",
     "text": [
      "Loss=0.011632882058620453 Batch_id=468 Accuracy=99.78: 100%|██████████| 469/469 [00:17<00:00, 26.79it/s]\n"
     ]
    },
    {
     "name": "stdout",
     "output_type": "stream",
     "text": [
      "\n",
      "Test set: Average loss: 0.0290, Accuracy: 9900/10000 (99.00%)\n",
      "\n",
      "EPOCH: 13\n"
     ]
    },
    {
     "name": "stderr",
     "output_type": "stream",
     "text": [
      "Loss=0.0035731634125113487 Batch_id=468 Accuracy=99.77: 100%|██████████| 469/469 [00:18<00:00, 25.86it/s]\n"
     ]
    },
    {
     "name": "stdout",
     "output_type": "stream",
     "text": [
      "\n",
      "Test set: Average loss: 0.0326, Accuracy: 9905/10000 (99.05%)\n",
      "\n",
      "EPOCH: 14\n"
     ]
    },
    {
     "name": "stderr",
     "output_type": "stream",
     "text": [
      "Loss=0.009480108506977558 Batch_id=468 Accuracy=99.84: 100%|██████████| 469/469 [00:18<00:00, 24.99it/s]\n"
     ]
    },
    {
     "name": "stdout",
     "output_type": "stream",
     "text": [
      "\n",
      "Test set: Average loss: 0.0319, Accuracy: 9907/10000 (99.07%)\n",
      "\n",
      "EPOCH: 15\n"
     ]
    },
    {
     "name": "stderr",
     "output_type": "stream",
     "text": [
      "Loss=0.0012384664732962847 Batch_id=468 Accuracy=99.87: 100%|██████████| 469/469 [00:17<00:00, 26.50it/s]\n"
     ]
    },
    {
     "name": "stdout",
     "output_type": "stream",
     "text": [
      "\n",
      "Test set: Average loss: 0.0332, Accuracy: 9897/10000 (98.97%)\n",
      "\n"
     ]
    }
   ],
   "source": [
    "optimizer = optim.SGD(model.parameters(), lr=0.01, momentum=0.9)\n",
    "EPOCHS = 15\n",
    "for epoch in range(EPOCHS):\n",
    "    print(\"EPOCH:\", epoch+1)\n",
    "    train_model(model, device, train_loader, optimizer, epoch)\n",
    "    test_model(model, device, test_loader)"
   ]
  },
  {
   "cell_type": "markdown",
   "metadata": {
    "id": "T2uTifGnqRza"
   },
   "source": [
    "#### Code 3- Model 3 -Drop out introduced to avoid overfitting that is seen in the model 2"
   ]
  },
  {
   "cell_type": "code",
   "execution_count": 8,
   "metadata": {
    "colab": {
     "base_uri": "https://localhost:8080/"
    },
    "id": "a1AmD4bjccVQ",
    "outputId": "ffbf811a-73ac-4594-d5ec-d061caf83544"
   },
   "outputs": [
    {
     "name": "stdout",
     "output_type": "stream",
     "text": [
      "----------------------------------------------------------------\n",
      "        Layer (type)               Output Shape         Param #\n",
      "================================================================\n",
      "            Conv2d-1            [-1, 4, 28, 28]              40\n",
      "              ReLU-2            [-1, 4, 28, 28]               0\n",
      "       BatchNorm2d-3            [-1, 4, 28, 28]               8\n",
      "           Dropout-4            [-1, 4, 28, 28]               0\n",
      "            Conv2d-5            [-1, 8, 28, 28]             296\n",
      "              ReLU-6            [-1, 8, 28, 28]               0\n",
      "       BatchNorm2d-7            [-1, 8, 28, 28]              16\n",
      "           Dropout-8            [-1, 8, 28, 28]               0\n",
      "            Conv2d-9           [-1, 12, 28, 28]             876\n",
      "             ReLU-10           [-1, 12, 28, 28]               0\n",
      "      BatchNorm2d-11           [-1, 12, 28, 28]              24\n",
      "          Dropout-12           [-1, 12, 28, 28]               0\n",
      "           Conv2d-13           [-1, 16, 28, 28]           1,744\n",
      "             ReLU-14           [-1, 16, 28, 28]               0\n",
      "      BatchNorm2d-15           [-1, 16, 28, 28]              32\n",
      "          Dropout-16           [-1, 16, 28, 28]               0\n",
      "        MaxPool2d-17           [-1, 16, 14, 14]               0\n",
      "           Conv2d-18           [-1, 32, 14, 14]           4,640\n",
      "             ReLU-19           [-1, 32, 14, 14]               0\n",
      "      BatchNorm2d-20           [-1, 32, 14, 14]              64\n",
      "          Dropout-21           [-1, 32, 14, 14]               0\n",
      "           Conv2d-22           [-1, 32, 14, 14]           9,248\n",
      "             ReLU-23           [-1, 32, 14, 14]               0\n",
      "      BatchNorm2d-24           [-1, 32, 14, 14]              64\n",
      "          Dropout-25           [-1, 32, 14, 14]               0\n",
      "        MaxPool2d-26             [-1, 32, 7, 7]               0\n",
      "           Conv2d-27             [-1, 10, 5, 5]           2,890\n",
      "        AvgPool2d-28             [-1, 10, 1, 1]               0\n",
      "================================================================\n",
      "Total params: 19,942\n",
      "Trainable params: 19,942\n",
      "Non-trainable params: 0\n",
      "----------------------------------------------------------------\n",
      "Input size (MB): 0.00\n",
      "Forward/backward pass size (MB): 1.38\n",
      "Params size (MB): 0.08\n",
      "Estimated Total Size (MB): 1.46\n",
      "----------------------------------------------------------------\n"
     ]
    }
   ],
   "source": [
    "model =  Model_3().to(device)\n",
    "modelsummary(model)"
   ]
  },
  {
   "cell_type": "code",
   "execution_count": 9,
   "metadata": {
    "colab": {
     "base_uri": "https://localhost:8080/"
    },
    "id": "JYmsjWgKccVR",
    "outputId": "b9dde8e4-9f2c-481b-ba0e-b4e34cdebcaa"
   },
   "outputs": [
    {
     "metadata": {
      "tags": null
     },
     "name": "stdout",
     "output_type": "stream",
     "text": [
      "EPOCH: 1\n"
     ]
    },
    {
     "metadata": {
      "tags": null
     },
     "name": "stderr",
     "output_type": "stream",
     "text": [
      "Loss=0.0690988227725029 Batch_id=468 Accuracy=89.52: 100%|██████████| 469/469 [00:19<00:00, 24.67it/s]\n"
     ]
    },
    {
     "metadata": {
      "tags": null
     },
     "name": "stdout",
     "output_type": "stream",
     "text": [
      "\n",
      "Test set: Average loss: 0.0980, Accuracy: 9685/10000 (96.85%)\n",
      "\n",
      "EPOCH: 2\n"
     ]
    },
    {
     "metadata": {
      "tags": null
     },
     "name": "stderr",
     "output_type": "stream",
     "text": [
      "Loss=0.06392782181501389 Batch_id=468 Accuracy=97.81: 100%|██████████| 469/469 [00:17<00:00, 26.56it/s]\n"
     ]
    },
    {
     "metadata": {
      "tags": null
     },
     "name": "stdout",
     "output_type": "stream",
     "text": [
      "\n",
      "Test set: Average loss: 0.0867, Accuracy: 9714/10000 (97.14%)\n",
      "\n",
      "EPOCH: 3\n"
     ]
    },
    {
     "metadata": {
      "tags": null
     },
     "name": "stderr",
     "output_type": "stream",
     "text": [
      "Loss=0.03283487632870674 Batch_id=468 Accuracy=98.37: 100%|██████████| 469/469 [00:18<00:00, 24.81it/s]\n"
     ]
    },
    {
     "metadata": {
      "tags": null
     },
     "name": "stdout",
     "output_type": "stream",
     "text": [
      "\n",
      "Test set: Average loss: 0.0529, Accuracy: 9835/10000 (98.35%)\n",
      "\n",
      "EPOCH: 4\n"
     ]
    },
    {
     "metadata": {
      "tags": null
     },
     "name": "stderr",
     "output_type": "stream",
     "text": [
      "Loss=0.03550327941775322 Batch_id=468 Accuracy=98.58: 100%|██████████| 469/469 [00:17<00:00, 26.33it/s]\n"
     ]
    },
    {
     "metadata": {
      "tags": null
     },
     "name": "stdout",
     "output_type": "stream",
     "text": [
      "\n",
      "Test set: Average loss: 0.0505, Accuracy: 9843/10000 (98.43%)\n",
      "\n",
      "EPOCH: 5\n"
     ]
    },
    {
     "metadata": {
      "tags": null
     },
     "name": "stderr",
     "output_type": "stream",
     "text": [
      "Loss=0.01300305500626564 Batch_id=468 Accuracy=98.78: 100%|██████████| 469/469 [00:18<00:00, 25.99it/s]\n"
     ]
    },
    {
     "metadata": {
      "tags": null
     },
     "name": "stdout",
     "output_type": "stream",
     "text": [
      "\n",
      "Test set: Average loss: 0.0345, Accuracy: 9897/10000 (98.97%)\n",
      "\n",
      "EPOCH: 6\n"
     ]
    },
    {
     "metadata": {
      "tags": null
     },
     "name": "stderr",
     "output_type": "stream",
     "text": [
      "Loss=0.004844998009502888 Batch_id=468 Accuracy=98.91: 100%|██████████| 469/469 [00:17<00:00, 26.47it/s]\n"
     ]
    },
    {
     "metadata": {
      "tags": null
     },
     "name": "stdout",
     "output_type": "stream",
     "text": [
      "\n",
      "Test set: Average loss: 0.0333, Accuracy: 9899/10000 (98.99%)\n",
      "\n",
      "EPOCH: 7\n"
     ]
    },
    {
     "metadata": {
      "tags": null
     },
     "name": "stderr",
     "output_type": "stream",
     "text": [
      "Loss=0.00875973328948021 Batch_id=468 Accuracy=98.99: 100%|██████████| 469/469 [00:17<00:00, 26.37it/s]\n"
     ]
    },
    {
     "metadata": {
      "tags": null
     },
     "name": "stdout",
     "output_type": "stream",
     "text": [
      "\n",
      "Test set: Average loss: 0.0290, Accuracy: 9910/10000 (99.10%)\n",
      "\n",
      "EPOCH: 8\n"
     ]
    },
    {
     "metadata": {
      "tags": null
     },
     "name": "stderr",
     "output_type": "stream",
     "text": [
      "Loss=0.0042760116048157215 Batch_id=468 Accuracy=99.09: 100%|██████████| 469/469 [00:18<00:00, 24.81it/s]\n"
     ]
    },
    {
     "metadata": {
      "tags": null
     },
     "name": "stdout",
     "output_type": "stream",
     "text": [
      "\n",
      "Test set: Average loss: 0.0370, Accuracy: 9884/10000 (98.84%)\n",
      "\n",
      "EPOCH: 9\n"
     ]
    },
    {
     "metadata": {
      "tags": null
     },
     "name": "stderr",
     "output_type": "stream",
     "text": [
      "Loss=0.025070438161492348 Batch_id=468 Accuracy=99.09: 100%|██████████| 469/469 [00:17<00:00, 27.38it/s]\n"
     ]
    },
    {
     "metadata": {
      "tags": null
     },
     "name": "stdout",
     "output_type": "stream",
     "text": [
      "\n",
      "Test set: Average loss: 0.0241, Accuracy: 9931/10000 (99.31%)\n",
      "\n",
      "EPOCH: 10\n"
     ]
    },
    {
     "metadata": {
      "tags": null
     },
     "name": "stderr",
     "output_type": "stream",
     "text": [
      "Loss=0.026011643931269646 Batch_id=468 Accuracy=99.12: 100%|██████████| 469/469 [00:18<00:00, 25.24it/s]\n"
     ]
    },
    {
     "metadata": {
      "tags": null
     },
     "name": "stdout",
     "output_type": "stream",
     "text": [
      "\n",
      "Test set: Average loss: 0.0251, Accuracy: 9917/10000 (99.17%)\n",
      "\n",
      "EPOCH: 11\n"
     ]
    },
    {
     "name": "stderr",
     "output_type": "stream",
     "text": [
      "Loss=0.01751176081597805 Batch_id=468 Accuracy=99.23: 100%|██████████| 469/469 [00:18<00:00, 26.04it/s]\n"
     ]
    },
    {
     "name": "stdout",
     "output_type": "stream",
     "text": [
      "\n",
      "Test set: Average loss: 0.0202, Accuracy: 9933/10000 (99.33%)\n",
      "\n",
      "EPOCH: 12\n"
     ]
    },
    {
     "name": "stderr",
     "output_type": "stream",
     "text": [
      "Loss=0.007796097546815872 Batch_id=468 Accuracy=99.27: 100%|██████████| 469/469 [00:18<00:00, 25.85it/s]\n"
     ]
    },
    {
     "name": "stdout",
     "output_type": "stream",
     "text": [
      "\n",
      "Test set: Average loss: 0.0255, Accuracy: 9915/10000 (99.15%)\n",
      "\n",
      "EPOCH: 13\n"
     ]
    },
    {
     "name": "stderr",
     "output_type": "stream",
     "text": [
      "Loss=0.017728567123413086 Batch_id=468 Accuracy=99.29: 100%|██████████| 469/469 [00:17<00:00, 26.48it/s]\n"
     ]
    },
    {
     "name": "stdout",
     "output_type": "stream",
     "text": [
      "\n",
      "Test set: Average loss: 0.0270, Accuracy: 9910/10000 (99.10%)\n",
      "\n",
      "EPOCH: 14\n"
     ]
    },
    {
     "name": "stderr",
     "output_type": "stream",
     "text": [
      "Loss=0.002061249455437064 Batch_id=468 Accuracy=99.33: 100%|██████████| 469/469 [00:17<00:00, 26.89it/s]\n"
     ]
    },
    {
     "name": "stdout",
     "output_type": "stream",
     "text": [
      "\n",
      "Test set: Average loss: 0.0223, Accuracy: 9930/10000 (99.30%)\n",
      "\n",
      "EPOCH: 15\n"
     ]
    },
    {
     "name": "stderr",
     "output_type": "stream",
     "text": [
      "Loss=0.0064957826398313046 Batch_id=468 Accuracy=99.30: 100%|██████████| 469/469 [00:19<00:00, 24.45it/s]\n"
     ]
    },
    {
     "name": "stdout",
     "output_type": "stream",
     "text": [
      "\n",
      "Test set: Average loss: 0.0209, Accuracy: 9937/10000 (99.37%)\n",
      "\n"
     ]
    }
   ],
   "source": [
    "optimizer = optim.SGD(model.parameters(), lr=0.01, momentum=0.9)\n",
    "EPOCHS = 15\n",
    "for epoch in range(EPOCHS):\n",
    "    print(\"EPOCH:\", epoch+1)\n",
    "    train_model(model, device, train_loader, optimizer, epoch)\n",
    "    test_model(model, device, test_loader)"
   ]
  },
  {
   "cell_type": "markdown",
   "metadata": {
    "id": "rLSgtdnaccVS"
   },
   "source": [
    "#### Code 4- Model 4 - Adding 1x1 Convolution for channel reduction"
   ]
  },
  {
   "cell_type": "code",
   "execution_count": 10,
   "metadata": {
    "colab": {
     "base_uri": "https://localhost:8080/"
    },
    "id": "5RYIyaQqccVS",
    "outputId": "17f206d2-28f2-4cc5-e3ae-9571ae54d175"
   },
   "outputs": [
    {
     "name": "stdout",
     "output_type": "stream",
     "text": [
      "----------------------------------------------------------------\n",
      "        Layer (type)               Output Shape         Param #\n",
      "================================================================\n",
      "            Conv2d-1            [-1, 8, 28, 28]              80\n",
      "              ReLU-2            [-1, 8, 28, 28]               0\n",
      "       BatchNorm2d-3            [-1, 8, 28, 28]              16\n",
      "           Dropout-4            [-1, 8, 28, 28]               0\n",
      "            Conv2d-5           [-1, 12, 28, 28]             876\n",
      "              ReLU-6           [-1, 12, 28, 28]               0\n",
      "       BatchNorm2d-7           [-1, 12, 28, 28]              24\n",
      "           Dropout-8           [-1, 12, 28, 28]               0\n",
      "            Conv2d-9            [-1, 6, 28, 28]              78\n",
      "        MaxPool2d-10            [-1, 6, 14, 14]               0\n",
      "           Conv2d-11           [-1, 12, 12, 12]             660\n",
      "             ReLU-12           [-1, 12, 12, 12]               0\n",
      "      BatchNorm2d-13           [-1, 12, 12, 12]              24\n",
      "          Dropout-14           [-1, 12, 12, 12]               0\n",
      "           Conv2d-15           [-1, 12, 10, 10]           1,308\n",
      "             ReLU-16           [-1, 12, 10, 10]               0\n",
      "      BatchNorm2d-17           [-1, 12, 10, 10]              24\n",
      "          Dropout-18           [-1, 12, 10, 10]               0\n",
      "           Conv2d-19           [-1, 12, 10, 10]           1,308\n",
      "             ReLU-20           [-1, 12, 10, 10]               0\n",
      "      BatchNorm2d-21           [-1, 12, 10, 10]              24\n",
      "          Dropout-22           [-1, 12, 10, 10]               0\n",
      "        MaxPool2d-23             [-1, 12, 5, 5]               0\n",
      "           Conv2d-24             [-1, 12, 3, 3]           1,308\n",
      "             ReLU-25             [-1, 12, 3, 3]               0\n",
      "      BatchNorm2d-26             [-1, 12, 3, 3]              24\n",
      "          Dropout-27             [-1, 12, 3, 3]               0\n",
      "           Conv2d-28             [-1, 12, 3, 3]           1,308\n",
      "             ReLU-29             [-1, 12, 3, 3]               0\n",
      "      BatchNorm2d-30             [-1, 12, 3, 3]              24\n",
      "          Dropout-31             [-1, 12, 3, 3]               0\n",
      "        AvgPool2d-32             [-1, 12, 1, 1]               0\n",
      "           Conv2d-33             [-1, 10, 1, 1]             130\n",
      "================================================================\n",
      "Total params: 7,216\n",
      "Trainable params: 7,216\n",
      "Non-trainable params: 0\n",
      "----------------------------------------------------------------\n",
      "Input size (MB): 0.00\n",
      "Forward/backward pass size (MB): 0.66\n",
      "Params size (MB): 0.03\n",
      "Estimated Total Size (MB): 0.69\n",
      "----------------------------------------------------------------\n"
     ]
    },
    {
     "name": "stderr",
     "output_type": "stream",
     "text": [
      "/content/model.py:155: UserWarning: Implicit dimension choice for log_softmax has been deprecated. Change the call to include dim=X as an argument.\n",
      "  return F.log_softmax(x)\n"
     ]
    }
   ],
   "source": [
    "model =  Model_4().to(device)\n",
    "modelsummary(model)"
   ]
  },
  {
   "cell_type": "code",
   "execution_count": 11,
   "metadata": {
    "colab": {
     "base_uri": "https://localhost:8080/"
    },
    "id": "R0T5ASNHccVT",
    "outputId": "2d097c3a-5408-4cf3-d8c1-28be11a5d34c"
   },
   "outputs": [
    {
     "name": "stdout",
     "output_type": "stream",
     "text": [
      "EPOCH: 1\n"
     ]
    },
    {
     "name": "stderr",
     "output_type": "stream",
     "text": [
      "Loss=0.1019643023610115 Batch_id=468 Accuracy=87.49: 100%|██████████| 469/469 [00:17<00:00, 26.26it/s]\n"
     ]
    },
    {
     "name": "stdout",
     "output_type": "stream",
     "text": [
      "\n",
      "Test set: Average loss: 0.0814, Accuracy: 9774/10000 (97.74%)\n",
      "\n",
      "EPOCH: 2\n"
     ]
    },
    {
     "name": "stderr",
     "output_type": "stream",
     "text": [
      "Loss=0.022983616217970848 Batch_id=468 Accuracy=97.51: 100%|██████████| 469/469 [00:17<00:00, 26.07it/s]\n"
     ]
    },
    {
     "name": "stdout",
     "output_type": "stream",
     "text": [
      "\n",
      "Test set: Average loss: 0.0477, Accuracy: 9853/10000 (98.53%)\n",
      "\n",
      "EPOCH: 3\n"
     ]
    },
    {
     "name": "stderr",
     "output_type": "stream",
     "text": [
      "Loss=0.021356485784053802 Batch_id=468 Accuracy=98.11: 100%|██████████| 469/469 [00:17<00:00, 26.93it/s]\n"
     ]
    },
    {
     "name": "stdout",
     "output_type": "stream",
     "text": [
      "\n",
      "Test set: Average loss: 0.0568, Accuracy: 9819/10000 (98.19%)\n",
      "\n",
      "EPOCH: 4\n"
     ]
    },
    {
     "name": "stderr",
     "output_type": "stream",
     "text": [
      "Loss=0.01935216784477234 Batch_id=468 Accuracy=98.27: 100%|██████████| 469/469 [00:17<00:00, 27.06it/s]\n"
     ]
    },
    {
     "name": "stdout",
     "output_type": "stream",
     "text": [
      "\n",
      "Test set: Average loss: 0.0422, Accuracy: 9864/10000 (98.64%)\n",
      "\n",
      "EPOCH: 5\n"
     ]
    },
    {
     "name": "stderr",
     "output_type": "stream",
     "text": [
      "Loss=0.03629109635949135 Batch_id=468 Accuracy=98.51: 100%|██████████| 469/469 [00:17<00:00, 26.20it/s]\n"
     ]
    },
    {
     "name": "stdout",
     "output_type": "stream",
     "text": [
      "\n",
      "Test set: Average loss: 0.0301, Accuracy: 9910/10000 (99.10%)\n",
      "\n",
      "EPOCH: 6\n"
     ]
    },
    {
     "name": "stderr",
     "output_type": "stream",
     "text": [
      "Loss=0.006311654578894377 Batch_id=468 Accuracy=98.56: 100%|██████████| 469/469 [00:17<00:00, 26.59it/s]\n"
     ]
    },
    {
     "name": "stdout",
     "output_type": "stream",
     "text": [
      "\n",
      "Test set: Average loss: 0.0294, Accuracy: 9907/10000 (99.07%)\n",
      "\n",
      "EPOCH: 7\n"
     ]
    },
    {
     "name": "stderr",
     "output_type": "stream",
     "text": [
      "Loss=0.07758203893899918 Batch_id=468 Accuracy=98.73: 100%|██████████| 469/469 [00:18<00:00, 25.46it/s]\n"
     ]
    },
    {
     "name": "stdout",
     "output_type": "stream",
     "text": [
      "\n",
      "Test set: Average loss: 0.0327, Accuracy: 9898/10000 (98.98%)\n",
      "\n",
      "EPOCH: 8\n"
     ]
    },
    {
     "name": "stderr",
     "output_type": "stream",
     "text": [
      "Loss=0.005623415112495422 Batch_id=468 Accuracy=98.75: 100%|██████████| 469/469 [00:17<00:00, 26.93it/s]\n"
     ]
    },
    {
     "name": "stdout",
     "output_type": "stream",
     "text": [
      "\n",
      "Test set: Average loss: 0.0285, Accuracy: 9915/10000 (99.15%)\n",
      "\n",
      "EPOCH: 9\n"
     ]
    },
    {
     "name": "stderr",
     "output_type": "stream",
     "text": [
      "Loss=0.1387949436903 Batch_id=468 Accuracy=98.81: 100%|██████████| 469/469 [00:18<00:00, 25.10it/s]\n"
     ]
    },
    {
     "name": "stdout",
     "output_type": "stream",
     "text": [
      "\n",
      "Test set: Average loss: 0.0320, Accuracy: 9893/10000 (98.93%)\n",
      "\n",
      "EPOCH: 10\n"
     ]
    },
    {
     "name": "stderr",
     "output_type": "stream",
     "text": [
      "Loss=0.08624774217605591 Batch_id=468 Accuracy=98.80: 100%|██████████| 469/469 [00:17<00:00, 26.85it/s]\n"
     ]
    },
    {
     "name": "stdout",
     "output_type": "stream",
     "text": [
      "\n",
      "Test set: Average loss: 0.0284, Accuracy: 9908/10000 (99.08%)\n",
      "\n",
      "EPOCH: 11\n"
     ]
    },
    {
     "name": "stderr",
     "output_type": "stream",
     "text": [
      "Loss=0.03920818492770195 Batch_id=468 Accuracy=98.77: 100%|██████████| 469/469 [00:18<00:00, 25.50it/s]\n"
     ]
    },
    {
     "name": "stdout",
     "output_type": "stream",
     "text": [
      "\n",
      "Test set: Average loss: 0.0306, Accuracy: 9909/10000 (99.09%)\n",
      "\n",
      "EPOCH: 12\n"
     ]
    },
    {
     "name": "stderr",
     "output_type": "stream",
     "text": [
      "Loss=0.12004590779542923 Batch_id=468 Accuracy=98.94: 100%|██████████| 469/469 [00:17<00:00, 26.93it/s]\n"
     ]
    },
    {
     "name": "stdout",
     "output_type": "stream",
     "text": [
      "\n",
      "Test set: Average loss: 0.0265, Accuracy: 9915/10000 (99.15%)\n",
      "\n",
      "EPOCH: 13\n"
     ]
    },
    {
     "name": "stderr",
     "output_type": "stream",
     "text": [
      "Loss=0.017539622262120247 Batch_id=468 Accuracy=98.93: 100%|██████████| 469/469 [00:18<00:00, 25.65it/s]\n"
     ]
    },
    {
     "name": "stdout",
     "output_type": "stream",
     "text": [
      "\n",
      "Test set: Average loss: 0.0304, Accuracy: 9920/10000 (99.20%)\n",
      "\n",
      "EPOCH: 14\n"
     ]
    },
    {
     "name": "stderr",
     "output_type": "stream",
     "text": [
      "Loss=0.09943025559186935 Batch_id=468 Accuracy=98.93: 100%|██████████| 469/469 [00:18<00:00, 25.04it/s]\n"
     ]
    },
    {
     "name": "stdout",
     "output_type": "stream",
     "text": [
      "\n",
      "Test set: Average loss: 0.0302, Accuracy: 9913/10000 (99.13%)\n",
      "\n",
      "EPOCH: 15\n"
     ]
    },
    {
     "name": "stderr",
     "output_type": "stream",
     "text": [
      "Loss=0.023786209523677826 Batch_id=468 Accuracy=99.03: 100%|██████████| 469/469 [00:18<00:00, 25.95it/s]\n"
     ]
    },
    {
     "name": "stdout",
     "output_type": "stream",
     "text": [
      "\n",
      "Test set: Average loss: 0.0236, Accuracy: 9928/10000 (99.28%)\n",
      "\n"
     ]
    }
   ],
   "source": [
    "optimizer = optim.SGD(model.parameters(), lr=0.01, momentum=0.9)\n",
    "EPOCHS = 15\n",
    "for epoch in range(EPOCHS):\n",
    "    print(\"EPOCH:\", epoch+1)\n",
    "    train_model(model, device, train_loader, optimizer, epoch)\n",
    "    test_model(model, device, test_loader)"
   ]
  },
  {
   "cell_type": "code",
   "execution_count": null,
   "metadata": {
    "id": "Dyev5FdmccVW"
   },
   "outputs": [],
   "source": []
  }
 ],
 "metadata": {
  "accelerator": "GPU",
  "colab": {
   "gpuType": "T4",
   "provenance": []
  },
  "kernelspec": {
   "display_name": "Python 3 (ipykernel)",
   "language": "python",
   "name": "python3"
  },
  "language_info": {
   "codemirror_mode": {
    "name": "ipython",
    "version": 3
   },
   "file_extension": ".py",
   "mimetype": "text/x-python",
   "name": "python",
   "nbconvert_exporter": "python",
   "pygments_lexer": "ipython3",
   "version": "3.9.7"
  }
 },
 "nbformat": 4,
 "nbformat_minor": 1
}
